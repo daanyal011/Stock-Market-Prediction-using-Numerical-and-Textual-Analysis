{
  "nbformat": 4,
  "nbformat_minor": 0,
  "metadata": {
    "colab": {
      "provenance": []
    },
    "kernelspec": {
      "name": "python3",
      "display_name": "Python 3"
    },
    "language_info": {
      "name": "python"
    }
  },
  "cells": [
    {
      "cell_type": "code",
      "execution_count": 54,
      "metadata": {
        "id": "kPMF6V2rvN4L"
      },
      "outputs": [],
      "source": [
        "# Import the important libraries"
      ]
    },
    {
      "cell_type": "code",
      "source": [
        "!pip install pmdarima"
      ],
      "metadata": {
        "colab": {
          "base_uri": "https://localhost:8080/"
        },
        "id": "Bq0othH-l9NU",
        "outputId": "fbbd008c-7130-4421-ba9c-d7c823cee059"
      },
      "execution_count": 55,
      "outputs": [
        {
          "output_type": "stream",
          "name": "stdout",
          "text": [
            "Looking in indexes: https://pypi.org/simple, https://us-python.pkg.dev/colab-wheels/public/simple/\n",
            "Requirement already satisfied: pmdarima in /usr/local/lib/python3.8/dist-packages (2.0.2)\n",
            "Requirement already satisfied: joblib>=0.11 in /usr/local/lib/python3.8/dist-packages (from pmdarima) (1.2.0)\n",
            "Requirement already satisfied: urllib3 in /usr/local/lib/python3.8/dist-packages (from pmdarima) (1.24.3)\n",
            "Requirement already satisfied: setuptools!=50.0.0,>=38.6.0 in /usr/local/lib/python3.8/dist-packages (from pmdarima) (57.4.0)\n",
            "Requirement already satisfied: scipy>=1.3.2 in /usr/local/lib/python3.8/dist-packages (from pmdarima) (1.7.3)\n",
            "Requirement already satisfied: pandas>=0.19 in /usr/local/lib/python3.8/dist-packages (from pmdarima) (1.3.5)\n",
            "Requirement already satisfied: scikit-learn>=0.22 in /usr/local/lib/python3.8/dist-packages (from pmdarima) (1.0.2)\n",
            "Requirement already satisfied: Cython!=0.29.18,!=0.29.31,>=0.29 in /usr/local/lib/python3.8/dist-packages (from pmdarima) (0.29.33)\n",
            "Requirement already satisfied: statsmodels>=0.13.2 in /usr/local/lib/python3.8/dist-packages (from pmdarima) (0.13.5)\n",
            "Requirement already satisfied: numpy>=1.21.2 in /usr/local/lib/python3.8/dist-packages (from pmdarima) (1.21.6)\n",
            "Requirement already satisfied: pytz>=2017.3 in /usr/local/lib/python3.8/dist-packages (from pandas>=0.19->pmdarima) (2022.7.1)\n",
            "Requirement already satisfied: python-dateutil>=2.7.3 in /usr/local/lib/python3.8/dist-packages (from pandas>=0.19->pmdarima) (2.8.2)\n",
            "Requirement already satisfied: threadpoolctl>=2.0.0 in /usr/local/lib/python3.8/dist-packages (from scikit-learn>=0.22->pmdarima) (3.1.0)\n",
            "Requirement already satisfied: packaging>=21.3 in /usr/local/lib/python3.8/dist-packages (from statsmodels>=0.13.2->pmdarima) (23.0)\n",
            "Requirement already satisfied: patsy>=0.5.2 in /usr/local/lib/python3.8/dist-packages (from statsmodels>=0.13.2->pmdarima) (0.5.3)\n",
            "Requirement already satisfied: six in /usr/local/lib/python3.8/dist-packages (from patsy>=0.5.2->statsmodels>=0.13.2->pmdarima) (1.15.0)\n"
          ]
        }
      ]
    },
    {
      "cell_type": "markdown",
      "source": [
        "##Import The Libraries"
      ],
      "metadata": {
        "id": "bARi5NGtCJXk"
      }
    },
    {
      "cell_type": "code",
      "source": [
        "# Import the libraries\n",
        "import os\n",
        "import pandas as pd\n",
        "import numpy as np\n",
        "import seaborn as sns\n",
        "import matplotlib.pyplot as plt\n",
        "\n",
        "import warnings\n",
        "warnings.filterwarnings('ignore')\n",
        "\n",
        "\n",
        "from statsmodels.tsa.arima_model import ARIMA\n",
        "from statsmodels.tsa.statespace.sarimax import SARIMAX\n",
        "\n",
        "import nltk\n",
        "import re\n",
        "from textblob import TextBlob\n",
        "from nltk.sentiment.vader import SentimentIntensityAnalyzer\n",
        "from sklearn.preprocessing import MinMaxScaler\n",
        "\n",
        "from sklearn.metrics import mean_squared_error\n",
        "from sklearn.model_selection import train_test_split\n",
        "from sklearn.ensemble import RandomForestRegressor, AdaBoostRegressor\n",
        "from sklearn.tree import DecisionTreeRegressor\n",
        "import xgboost\n",
        "import lightgbm\n",
        "from statsmodels.tsa.stattools import adfuller\n",
        "from pmdarima import auto_arima\n",
        "import nltk\n",
        "nltk.download('vader_lexicon')\n",
        "from datetime import datetime\n",
        "from pandas_datareader.data import DataReader"
      ],
      "metadata": {
        "colab": {
          "base_uri": "https://localhost:8080/"
        },
        "id": "ovK31pytmLMe",
        "outputId": "07a823e5-5f64-44da-af13-f618bc92bdf9"
      },
      "execution_count": 56,
      "outputs": [
        {
          "output_type": "stream",
          "name": "stderr",
          "text": [
            "[nltk_data] Downloading package vader_lexicon to /root/nltk_data...\n",
            "[nltk_data]   Package vader_lexicon is already up-to-date!\n"
          ]
        }
      ]
    },
    {
      "cell_type": "markdown",
      "source": [
        "##Load the news data set"
      ],
      "metadata": {
        "id": "aDVg2mGrCPrB"
      }
    },
    {
      "cell_type": "code",
      "source": [
        "# Load the news dataset\n",
        "columns=['Date','Category','News']\n",
        "df_news = pd.read_csv(\"/content/drive/MyDrive/Dataset/india-news-headlines.csv\",names=columns)"
      ],
      "metadata": {
        "id": "2nDVcc7DmmCr"
      },
      "execution_count": 57,
      "outputs": []
    },
    {
      "cell_type": "code",
      "source": [
        "df_news.head()"
      ],
      "metadata": {
        "colab": {
          "base_uri": "https://localhost:8080/",
          "height": 206
        },
        "id": "NH8smh-KmrCN",
        "outputId": "1b0b5e44-8ef7-4851-c7a3-3dae6fe0f105"
      },
      "execution_count": 58,
      "outputs": [
        {
          "output_type": "execute_result",
          "data": {
            "text/plain": [
              "           Date           Category  \\\n",
              "0  publish_date  headline_category   \n",
              "1      20010102            unknown   \n",
              "2      20010102            unknown   \n",
              "3      20010102            unknown   \n",
              "4      20010102            unknown   \n",
              "\n",
              "                                                News  \n",
              "0                                      headline_text  \n",
              "1  Status quo will not be disturbed at Ayodhya; s...  \n",
              "2                Fissures in Hurriyat over Pak visit  \n",
              "3              America's unwanted heading for India?  \n",
              "4                 For bigwigs; it is destination Goa  "
            ],
            "text/html": [
              "\n",
              "  <div id=\"df-042524b7-324d-4179-8cd0-bd3dff412469\">\n",
              "    <div class=\"colab-df-container\">\n",
              "      <div>\n",
              "<style scoped>\n",
              "    .dataframe tbody tr th:only-of-type {\n",
              "        vertical-align: middle;\n",
              "    }\n",
              "\n",
              "    .dataframe tbody tr th {\n",
              "        vertical-align: top;\n",
              "    }\n",
              "\n",
              "    .dataframe thead th {\n",
              "        text-align: right;\n",
              "    }\n",
              "</style>\n",
              "<table border=\"1\" class=\"dataframe\">\n",
              "  <thead>\n",
              "    <tr style=\"text-align: right;\">\n",
              "      <th></th>\n",
              "      <th>Date</th>\n",
              "      <th>Category</th>\n",
              "      <th>News</th>\n",
              "    </tr>\n",
              "  </thead>\n",
              "  <tbody>\n",
              "    <tr>\n",
              "      <th>0</th>\n",
              "      <td>publish_date</td>\n",
              "      <td>headline_category</td>\n",
              "      <td>headline_text</td>\n",
              "    </tr>\n",
              "    <tr>\n",
              "      <th>1</th>\n",
              "      <td>20010102</td>\n",
              "      <td>unknown</td>\n",
              "      <td>Status quo will not be disturbed at Ayodhya; s...</td>\n",
              "    </tr>\n",
              "    <tr>\n",
              "      <th>2</th>\n",
              "      <td>20010102</td>\n",
              "      <td>unknown</td>\n",
              "      <td>Fissures in Hurriyat over Pak visit</td>\n",
              "    </tr>\n",
              "    <tr>\n",
              "      <th>3</th>\n",
              "      <td>20010102</td>\n",
              "      <td>unknown</td>\n",
              "      <td>America's unwanted heading for India?</td>\n",
              "    </tr>\n",
              "    <tr>\n",
              "      <th>4</th>\n",
              "      <td>20010102</td>\n",
              "      <td>unknown</td>\n",
              "      <td>For bigwigs; it is destination Goa</td>\n",
              "    </tr>\n",
              "  </tbody>\n",
              "</table>\n",
              "</div>\n",
              "      <button class=\"colab-df-convert\" onclick=\"convertToInteractive('df-042524b7-324d-4179-8cd0-bd3dff412469')\"\n",
              "              title=\"Convert this dataframe to an interactive table.\"\n",
              "              style=\"display:none;\">\n",
              "        \n",
              "  <svg xmlns=\"http://www.w3.org/2000/svg\" height=\"24px\"viewBox=\"0 0 24 24\"\n",
              "       width=\"24px\">\n",
              "    <path d=\"M0 0h24v24H0V0z\" fill=\"none\"/>\n",
              "    <path d=\"M18.56 5.44l.94 2.06.94-2.06 2.06-.94-2.06-.94-.94-2.06-.94 2.06-2.06.94zm-11 1L8.5 8.5l.94-2.06 2.06-.94-2.06-.94L8.5 2.5l-.94 2.06-2.06.94zm10 10l.94 2.06.94-2.06 2.06-.94-2.06-.94-.94-2.06-.94 2.06-2.06.94z\"/><path d=\"M17.41 7.96l-1.37-1.37c-.4-.4-.92-.59-1.43-.59-.52 0-1.04.2-1.43.59L10.3 9.45l-7.72 7.72c-.78.78-.78 2.05 0 2.83L4 21.41c.39.39.9.59 1.41.59.51 0 1.02-.2 1.41-.59l7.78-7.78 2.81-2.81c.8-.78.8-2.07 0-2.86zM5.41 20L4 18.59l7.72-7.72 1.47 1.35L5.41 20z\"/>\n",
              "  </svg>\n",
              "      </button>\n",
              "      \n",
              "  <style>\n",
              "    .colab-df-container {\n",
              "      display:flex;\n",
              "      flex-wrap:wrap;\n",
              "      gap: 12px;\n",
              "    }\n",
              "\n",
              "    .colab-df-convert {\n",
              "      background-color: #E8F0FE;\n",
              "      border: none;\n",
              "      border-radius: 50%;\n",
              "      cursor: pointer;\n",
              "      display: none;\n",
              "      fill: #1967D2;\n",
              "      height: 32px;\n",
              "      padding: 0 0 0 0;\n",
              "      width: 32px;\n",
              "    }\n",
              "\n",
              "    .colab-df-convert:hover {\n",
              "      background-color: #E2EBFA;\n",
              "      box-shadow: 0px 1px 2px rgba(60, 64, 67, 0.3), 0px 1px 3px 1px rgba(60, 64, 67, 0.15);\n",
              "      fill: #174EA6;\n",
              "    }\n",
              "\n",
              "    [theme=dark] .colab-df-convert {\n",
              "      background-color: #3B4455;\n",
              "      fill: #D2E3FC;\n",
              "    }\n",
              "\n",
              "    [theme=dark] .colab-df-convert:hover {\n",
              "      background-color: #434B5C;\n",
              "      box-shadow: 0px 1px 3px 1px rgba(0, 0, 0, 0.15);\n",
              "      filter: drop-shadow(0px 1px 2px rgba(0, 0, 0, 0.3));\n",
              "      fill: #FFFFFF;\n",
              "    }\n",
              "  </style>\n",
              "\n",
              "      <script>\n",
              "        const buttonEl =\n",
              "          document.querySelector('#df-042524b7-324d-4179-8cd0-bd3dff412469 button.colab-df-convert');\n",
              "        buttonEl.style.display =\n",
              "          google.colab.kernel.accessAllowed ? 'block' : 'none';\n",
              "\n",
              "        async function convertToInteractive(key) {\n",
              "          const element = document.querySelector('#df-042524b7-324d-4179-8cd0-bd3dff412469');\n",
              "          const dataTable =\n",
              "            await google.colab.kernel.invokeFunction('convertToInteractive',\n",
              "                                                     [key], {});\n",
              "          if (!dataTable) return;\n",
              "\n",
              "          const docLinkHtml = 'Like what you see? Visit the ' +\n",
              "            '<a target=\"_blank\" href=https://colab.research.google.com/notebooks/data_table.ipynb>data table notebook</a>'\n",
              "            + ' to learn more about interactive tables.';\n",
              "          element.innerHTML = '';\n",
              "          dataTable['output_type'] = 'display_data';\n",
              "          await google.colab.output.renderOutput(dataTable, element);\n",
              "          const docLink = document.createElement('div');\n",
              "          docLink.innerHTML = docLinkHtml;\n",
              "          element.appendChild(docLink);\n",
              "        }\n",
              "      </script>\n",
              "    </div>\n",
              "  </div>\n",
              "  "
            ]
          },
          "metadata": {},
          "execution_count": 58
        }
      ]
    },
    {
      "cell_type": "markdown",
      "source": [
        "##Dropping the category columns"
      ],
      "metadata": {
        "id": "b3cE7OVeCTqT"
      }
    },
    {
      "cell_type": "code",
      "source": [
        "# dropping first row \n",
        "df_news.drop(0, inplace=True)\n",
        "df_news.drop('Category', axis = 1, inplace=True)\n",
        "df_news.head()"
      ],
      "metadata": {
        "colab": {
          "base_uri": "https://localhost:8080/",
          "height": 206
        },
        "id": "Fb762RRhm3Cb",
        "outputId": "c9579aca-1708-4ada-b9e8-734c84463c6b"
      },
      "execution_count": 59,
      "outputs": [
        {
          "output_type": "execute_result",
          "data": {
            "text/plain": [
              "       Date                                               News\n",
              "1  20010102  Status quo will not be disturbed at Ayodhya; s...\n",
              "2  20010102                Fissures in Hurriyat over Pak visit\n",
              "3  20010102              America's unwanted heading for India?\n",
              "4  20010102                 For bigwigs; it is destination Goa\n",
              "5  20010102               Extra buses to clear tourist traffic"
            ],
            "text/html": [
              "\n",
              "  <div id=\"df-3fb29054-42b4-41ea-8fbb-a30117772bfe\">\n",
              "    <div class=\"colab-df-container\">\n",
              "      <div>\n",
              "<style scoped>\n",
              "    .dataframe tbody tr th:only-of-type {\n",
              "        vertical-align: middle;\n",
              "    }\n",
              "\n",
              "    .dataframe tbody tr th {\n",
              "        vertical-align: top;\n",
              "    }\n",
              "\n",
              "    .dataframe thead th {\n",
              "        text-align: right;\n",
              "    }\n",
              "</style>\n",
              "<table border=\"1\" class=\"dataframe\">\n",
              "  <thead>\n",
              "    <tr style=\"text-align: right;\">\n",
              "      <th></th>\n",
              "      <th>Date</th>\n",
              "      <th>News</th>\n",
              "    </tr>\n",
              "  </thead>\n",
              "  <tbody>\n",
              "    <tr>\n",
              "      <th>1</th>\n",
              "      <td>20010102</td>\n",
              "      <td>Status quo will not be disturbed at Ayodhya; s...</td>\n",
              "    </tr>\n",
              "    <tr>\n",
              "      <th>2</th>\n",
              "      <td>20010102</td>\n",
              "      <td>Fissures in Hurriyat over Pak visit</td>\n",
              "    </tr>\n",
              "    <tr>\n",
              "      <th>3</th>\n",
              "      <td>20010102</td>\n",
              "      <td>America's unwanted heading for India?</td>\n",
              "    </tr>\n",
              "    <tr>\n",
              "      <th>4</th>\n",
              "      <td>20010102</td>\n",
              "      <td>For bigwigs; it is destination Goa</td>\n",
              "    </tr>\n",
              "    <tr>\n",
              "      <th>5</th>\n",
              "      <td>20010102</td>\n",
              "      <td>Extra buses to clear tourist traffic</td>\n",
              "    </tr>\n",
              "  </tbody>\n",
              "</table>\n",
              "</div>\n",
              "      <button class=\"colab-df-convert\" onclick=\"convertToInteractive('df-3fb29054-42b4-41ea-8fbb-a30117772bfe')\"\n",
              "              title=\"Convert this dataframe to an interactive table.\"\n",
              "              style=\"display:none;\">\n",
              "        \n",
              "  <svg xmlns=\"http://www.w3.org/2000/svg\" height=\"24px\"viewBox=\"0 0 24 24\"\n",
              "       width=\"24px\">\n",
              "    <path d=\"M0 0h24v24H0V0z\" fill=\"none\"/>\n",
              "    <path d=\"M18.56 5.44l.94 2.06.94-2.06 2.06-.94-2.06-.94-.94-2.06-.94 2.06-2.06.94zm-11 1L8.5 8.5l.94-2.06 2.06-.94-2.06-.94L8.5 2.5l-.94 2.06-2.06.94zm10 10l.94 2.06.94-2.06 2.06-.94-2.06-.94-.94-2.06-.94 2.06-2.06.94z\"/><path d=\"M17.41 7.96l-1.37-1.37c-.4-.4-.92-.59-1.43-.59-.52 0-1.04.2-1.43.59L10.3 9.45l-7.72 7.72c-.78.78-.78 2.05 0 2.83L4 21.41c.39.39.9.59 1.41.59.51 0 1.02-.2 1.41-.59l7.78-7.78 2.81-2.81c.8-.78.8-2.07 0-2.86zM5.41 20L4 18.59l7.72-7.72 1.47 1.35L5.41 20z\"/>\n",
              "  </svg>\n",
              "      </button>\n",
              "      \n",
              "  <style>\n",
              "    .colab-df-container {\n",
              "      display:flex;\n",
              "      flex-wrap:wrap;\n",
              "      gap: 12px;\n",
              "    }\n",
              "\n",
              "    .colab-df-convert {\n",
              "      background-color: #E8F0FE;\n",
              "      border: none;\n",
              "      border-radius: 50%;\n",
              "      cursor: pointer;\n",
              "      display: none;\n",
              "      fill: #1967D2;\n",
              "      height: 32px;\n",
              "      padding: 0 0 0 0;\n",
              "      width: 32px;\n",
              "    }\n",
              "\n",
              "    .colab-df-convert:hover {\n",
              "      background-color: #E2EBFA;\n",
              "      box-shadow: 0px 1px 2px rgba(60, 64, 67, 0.3), 0px 1px 3px 1px rgba(60, 64, 67, 0.15);\n",
              "      fill: #174EA6;\n",
              "    }\n",
              "\n",
              "    [theme=dark] .colab-df-convert {\n",
              "      background-color: #3B4455;\n",
              "      fill: #D2E3FC;\n",
              "    }\n",
              "\n",
              "    [theme=dark] .colab-df-convert:hover {\n",
              "      background-color: #434B5C;\n",
              "      box-shadow: 0px 1px 3px 1px rgba(0, 0, 0, 0.15);\n",
              "      filter: drop-shadow(0px 1px 2px rgba(0, 0, 0, 0.3));\n",
              "      fill: #FFFFFF;\n",
              "    }\n",
              "  </style>\n",
              "\n",
              "      <script>\n",
              "        const buttonEl =\n",
              "          document.querySelector('#df-3fb29054-42b4-41ea-8fbb-a30117772bfe button.colab-df-convert');\n",
              "        buttonEl.style.display =\n",
              "          google.colab.kernel.accessAllowed ? 'block' : 'none';\n",
              "\n",
              "        async function convertToInteractive(key) {\n",
              "          const element = document.querySelector('#df-3fb29054-42b4-41ea-8fbb-a30117772bfe');\n",
              "          const dataTable =\n",
              "            await google.colab.kernel.invokeFunction('convertToInteractive',\n",
              "                                                     [key], {});\n",
              "          if (!dataTable) return;\n",
              "\n",
              "          const docLinkHtml = 'Like what you see? Visit the ' +\n",
              "            '<a target=\"_blank\" href=https://colab.research.google.com/notebooks/data_table.ipynb>data table notebook</a>'\n",
              "            + ' to learn more about interactive tables.';\n",
              "          element.innerHTML = '';\n",
              "          dataTable['output_type'] = 'display_data';\n",
              "          await google.colab.output.renderOutput(dataTable, element);\n",
              "          const docLink = document.createElement('div');\n",
              "          docLink.innerHTML = docLinkHtml;\n",
              "          element.appendChild(docLink);\n",
              "        }\n",
              "      </script>\n",
              "    </div>\n",
              "  </div>\n",
              "  "
            ]
          },
          "metadata": {},
          "execution_count": 59
        }
      ]
    },
    {
      "cell_type": "markdown",
      "source": [
        "## loading the stock market data "
      ],
      "metadata": {
        "id": "C80XCtjtCk65"
      }
    },
    {
      "cell_type": "code",
      "source": [
        "# Load the stock market dataset\n",
        "dfs = pd.read_csv(\"/content/drive/MyDrive/Dataset/^BSESN.csv\")\n",
        "dfs.head()"
      ],
      "metadata": {
        "colab": {
          "base_uri": "https://localhost:8080/",
          "height": 206
        },
        "id": "8dD4dvOynDXz",
        "outputId": "578b50e7-e122-431b-8b3a-4b202acc50da"
      },
      "execution_count": 60,
      "outputs": [
        {
          "output_type": "execute_result",
          "data": {
            "text/plain": [
              "         Date          Open          High           Low         Close  \\\n",
              "0  2019-12-17  41052.359375  41401.648438  41005.179688  41352.171875   \n",
              "1  2019-12-18  41442.750000  41614.769531  41358.468750  41558.570313   \n",
              "2  2019-12-19  41571.820313  41719.289063  41456.398438  41673.921875   \n",
              "3  2019-12-20  41746.199219  41809.960938  41636.109375  41681.539063   \n",
              "4  2019-12-23  41548.261719  41701.621094  41474.609375  41642.660156   \n",
              "\n",
              "      Adj Close   Volume  \n",
              "0  41352.171875  19000.0  \n",
              "1  41558.570313  24300.0  \n",
              "2  41673.921875  33300.0  \n",
              "3  41681.539063  33600.0  \n",
              "4  41642.660156   6200.0  "
            ],
            "text/html": [
              "\n",
              "  <div id=\"df-33da8564-274d-4d55-a52c-8fc5521b721e\">\n",
              "    <div class=\"colab-df-container\">\n",
              "      <div>\n",
              "<style scoped>\n",
              "    .dataframe tbody tr th:only-of-type {\n",
              "        vertical-align: middle;\n",
              "    }\n",
              "\n",
              "    .dataframe tbody tr th {\n",
              "        vertical-align: top;\n",
              "    }\n",
              "\n",
              "    .dataframe thead th {\n",
              "        text-align: right;\n",
              "    }\n",
              "</style>\n",
              "<table border=\"1\" class=\"dataframe\">\n",
              "  <thead>\n",
              "    <tr style=\"text-align: right;\">\n",
              "      <th></th>\n",
              "      <th>Date</th>\n",
              "      <th>Open</th>\n",
              "      <th>High</th>\n",
              "      <th>Low</th>\n",
              "      <th>Close</th>\n",
              "      <th>Adj Close</th>\n",
              "      <th>Volume</th>\n",
              "    </tr>\n",
              "  </thead>\n",
              "  <tbody>\n",
              "    <tr>\n",
              "      <th>0</th>\n",
              "      <td>2019-12-17</td>\n",
              "      <td>41052.359375</td>\n",
              "      <td>41401.648438</td>\n",
              "      <td>41005.179688</td>\n",
              "      <td>41352.171875</td>\n",
              "      <td>41352.171875</td>\n",
              "      <td>19000.0</td>\n",
              "    </tr>\n",
              "    <tr>\n",
              "      <th>1</th>\n",
              "      <td>2019-12-18</td>\n",
              "      <td>41442.750000</td>\n",
              "      <td>41614.769531</td>\n",
              "      <td>41358.468750</td>\n",
              "      <td>41558.570313</td>\n",
              "      <td>41558.570313</td>\n",
              "      <td>24300.0</td>\n",
              "    </tr>\n",
              "    <tr>\n",
              "      <th>2</th>\n",
              "      <td>2019-12-19</td>\n",
              "      <td>41571.820313</td>\n",
              "      <td>41719.289063</td>\n",
              "      <td>41456.398438</td>\n",
              "      <td>41673.921875</td>\n",
              "      <td>41673.921875</td>\n",
              "      <td>33300.0</td>\n",
              "    </tr>\n",
              "    <tr>\n",
              "      <th>3</th>\n",
              "      <td>2019-12-20</td>\n",
              "      <td>41746.199219</td>\n",
              "      <td>41809.960938</td>\n",
              "      <td>41636.109375</td>\n",
              "      <td>41681.539063</td>\n",
              "      <td>41681.539063</td>\n",
              "      <td>33600.0</td>\n",
              "    </tr>\n",
              "    <tr>\n",
              "      <th>4</th>\n",
              "      <td>2019-12-23</td>\n",
              "      <td>41548.261719</td>\n",
              "      <td>41701.621094</td>\n",
              "      <td>41474.609375</td>\n",
              "      <td>41642.660156</td>\n",
              "      <td>41642.660156</td>\n",
              "      <td>6200.0</td>\n",
              "    </tr>\n",
              "  </tbody>\n",
              "</table>\n",
              "</div>\n",
              "      <button class=\"colab-df-convert\" onclick=\"convertToInteractive('df-33da8564-274d-4d55-a52c-8fc5521b721e')\"\n",
              "              title=\"Convert this dataframe to an interactive table.\"\n",
              "              style=\"display:none;\">\n",
              "        \n",
              "  <svg xmlns=\"http://www.w3.org/2000/svg\" height=\"24px\"viewBox=\"0 0 24 24\"\n",
              "       width=\"24px\">\n",
              "    <path d=\"M0 0h24v24H0V0z\" fill=\"none\"/>\n",
              "    <path d=\"M18.56 5.44l.94 2.06.94-2.06 2.06-.94-2.06-.94-.94-2.06-.94 2.06-2.06.94zm-11 1L8.5 8.5l.94-2.06 2.06-.94-2.06-.94L8.5 2.5l-.94 2.06-2.06.94zm10 10l.94 2.06.94-2.06 2.06-.94-2.06-.94-.94-2.06-.94 2.06-2.06.94z\"/><path d=\"M17.41 7.96l-1.37-1.37c-.4-.4-.92-.59-1.43-.59-.52 0-1.04.2-1.43.59L10.3 9.45l-7.72 7.72c-.78.78-.78 2.05 0 2.83L4 21.41c.39.39.9.59 1.41.59.51 0 1.02-.2 1.41-.59l7.78-7.78 2.81-2.81c.8-.78.8-2.07 0-2.86zM5.41 20L4 18.59l7.72-7.72 1.47 1.35L5.41 20z\"/>\n",
              "  </svg>\n",
              "      </button>\n",
              "      \n",
              "  <style>\n",
              "    .colab-df-container {\n",
              "      display:flex;\n",
              "      flex-wrap:wrap;\n",
              "      gap: 12px;\n",
              "    }\n",
              "\n",
              "    .colab-df-convert {\n",
              "      background-color: #E8F0FE;\n",
              "      border: none;\n",
              "      border-radius: 50%;\n",
              "      cursor: pointer;\n",
              "      display: none;\n",
              "      fill: #1967D2;\n",
              "      height: 32px;\n",
              "      padding: 0 0 0 0;\n",
              "      width: 32px;\n",
              "    }\n",
              "\n",
              "    .colab-df-convert:hover {\n",
              "      background-color: #E2EBFA;\n",
              "      box-shadow: 0px 1px 2px rgba(60, 64, 67, 0.3), 0px 1px 3px 1px rgba(60, 64, 67, 0.15);\n",
              "      fill: #174EA6;\n",
              "    }\n",
              "\n",
              "    [theme=dark] .colab-df-convert {\n",
              "      background-color: #3B4455;\n",
              "      fill: #D2E3FC;\n",
              "    }\n",
              "\n",
              "    [theme=dark] .colab-df-convert:hover {\n",
              "      background-color: #434B5C;\n",
              "      box-shadow: 0px 1px 3px 1px rgba(0, 0, 0, 0.15);\n",
              "      filter: drop-shadow(0px 1px 2px rgba(0, 0, 0, 0.3));\n",
              "      fill: #FFFFFF;\n",
              "    }\n",
              "  </style>\n",
              "\n",
              "      <script>\n",
              "        const buttonEl =\n",
              "          document.querySelector('#df-33da8564-274d-4d55-a52c-8fc5521b721e button.colab-df-convert');\n",
              "        buttonEl.style.display =\n",
              "          google.colab.kernel.accessAllowed ? 'block' : 'none';\n",
              "\n",
              "        async function convertToInteractive(key) {\n",
              "          const element = document.querySelector('#df-33da8564-274d-4d55-a52c-8fc5521b721e');\n",
              "          const dataTable =\n",
              "            await google.colab.kernel.invokeFunction('convertToInteractive',\n",
              "                                                     [key], {});\n",
              "          if (!dataTable) return;\n",
              "\n",
              "          const docLinkHtml = 'Like what you see? Visit the ' +\n",
              "            '<a target=\"_blank\" href=https://colab.research.google.com/notebooks/data_table.ipynb>data table notebook</a>'\n",
              "            + ' to learn more about interactive tables.';\n",
              "          element.innerHTML = '';\n",
              "          dataTable['output_type'] = 'display_data';\n",
              "          await google.colab.output.renderOutput(dataTable, element);\n",
              "          const docLink = document.createElement('div');\n",
              "          docLink.innerHTML = docLinkHtml;\n",
              "          element.appendChild(docLink);\n",
              "        }\n",
              "      </script>\n",
              "    </div>\n",
              "  </div>\n",
              "  "
            ]
          },
          "metadata": {},
          "execution_count": 60
        }
      ]
    },
    {
      "cell_type": "code",
      "source": [
        "# Conversion of datetime to datetime datatype\n",
        "df_news[\"Date\"] = pd.to_datetime(df_news[\"Date\"],format='%Y%m%d')\n",
        "df_news.info()"
      ],
      "metadata": {
        "colab": {
          "base_uri": "https://localhost:8080/"
        },
        "id": "vjTVuWoynVRR",
        "outputId": "4cf028b1-8875-4d6e-b272-f1a2c3849abc"
      },
      "execution_count": 61,
      "outputs": [
        {
          "output_type": "stream",
          "name": "stdout",
          "text": [
            "<class 'pandas.core.frame.DataFrame'>\n",
            "Int64Index: 3650970 entries, 1 to 3650970\n",
            "Data columns (total 2 columns):\n",
            " #   Column  Dtype         \n",
            "---  ------  -----         \n",
            " 0   Date    datetime64[ns]\n",
            " 1   News    object        \n",
            "dtypes: datetime64[ns](1), object(1)\n",
            "memory usage: 83.6+ MB\n"
          ]
        }
      ]
    },
    {
      "cell_type": "code",
      "source": [
        "# Group the news headlines for each day \n",
        "df_news['News'] = df_news.groupby(['Date']).transform(lambda x : ' '.join(x)) \n",
        "df_news = df_news.drop_duplicates() \n",
        "df_news.reset_index(inplace=True,drop=True)"
      ],
      "metadata": {
        "id": "6_PwcxEWnl17"
      },
      "execution_count": 62,
      "outputs": []
    },
    {
      "cell_type": "code",
      "source": [
        "df_news.head()"
      ],
      "metadata": {
        "colab": {
          "base_uri": "https://localhost:8080/",
          "height": 206
        },
        "id": "mn4-xp3uoOOb",
        "outputId": "e2a4a9ec-0e0b-4066-a5ba-e6635228e230"
      },
      "execution_count": 63,
      "outputs": [
        {
          "output_type": "execute_result",
          "data": {
            "text/plain": [
              "        Date                                               News\n",
              "0 2001-01-02  Status quo will not be disturbed at Ayodhya; s...\n",
              "1 2001-01-03  Powerless north India gropes in the dark Think...\n",
              "2 2001-01-04  The string that pulled Stephen Hawking to Indi...\n",
              "3 2001-01-05  Light combat craft takes India into club class...\n",
              "4 2001-01-06  Light combat craft takes India into club class..."
            ],
            "text/html": [
              "\n",
              "  <div id=\"df-57c9a10d-f338-43af-8c19-d17877d79b42\">\n",
              "    <div class=\"colab-df-container\">\n",
              "      <div>\n",
              "<style scoped>\n",
              "    .dataframe tbody tr th:only-of-type {\n",
              "        vertical-align: middle;\n",
              "    }\n",
              "\n",
              "    .dataframe tbody tr th {\n",
              "        vertical-align: top;\n",
              "    }\n",
              "\n",
              "    .dataframe thead th {\n",
              "        text-align: right;\n",
              "    }\n",
              "</style>\n",
              "<table border=\"1\" class=\"dataframe\">\n",
              "  <thead>\n",
              "    <tr style=\"text-align: right;\">\n",
              "      <th></th>\n",
              "      <th>Date</th>\n",
              "      <th>News</th>\n",
              "    </tr>\n",
              "  </thead>\n",
              "  <tbody>\n",
              "    <tr>\n",
              "      <th>0</th>\n",
              "      <td>2001-01-02</td>\n",
              "      <td>Status quo will not be disturbed at Ayodhya; s...</td>\n",
              "    </tr>\n",
              "    <tr>\n",
              "      <th>1</th>\n",
              "      <td>2001-01-03</td>\n",
              "      <td>Powerless north India gropes in the dark Think...</td>\n",
              "    </tr>\n",
              "    <tr>\n",
              "      <th>2</th>\n",
              "      <td>2001-01-04</td>\n",
              "      <td>The string that pulled Stephen Hawking to Indi...</td>\n",
              "    </tr>\n",
              "    <tr>\n",
              "      <th>3</th>\n",
              "      <td>2001-01-05</td>\n",
              "      <td>Light combat craft takes India into club class...</td>\n",
              "    </tr>\n",
              "    <tr>\n",
              "      <th>4</th>\n",
              "      <td>2001-01-06</td>\n",
              "      <td>Light combat craft takes India into club class...</td>\n",
              "    </tr>\n",
              "  </tbody>\n",
              "</table>\n",
              "</div>\n",
              "      <button class=\"colab-df-convert\" onclick=\"convertToInteractive('df-57c9a10d-f338-43af-8c19-d17877d79b42')\"\n",
              "              title=\"Convert this dataframe to an interactive table.\"\n",
              "              style=\"display:none;\">\n",
              "        \n",
              "  <svg xmlns=\"http://www.w3.org/2000/svg\" height=\"24px\"viewBox=\"0 0 24 24\"\n",
              "       width=\"24px\">\n",
              "    <path d=\"M0 0h24v24H0V0z\" fill=\"none\"/>\n",
              "    <path d=\"M18.56 5.44l.94 2.06.94-2.06 2.06-.94-2.06-.94-.94-2.06-.94 2.06-2.06.94zm-11 1L8.5 8.5l.94-2.06 2.06-.94-2.06-.94L8.5 2.5l-.94 2.06-2.06.94zm10 10l.94 2.06.94-2.06 2.06-.94-2.06-.94-.94-2.06-.94 2.06-2.06.94z\"/><path d=\"M17.41 7.96l-1.37-1.37c-.4-.4-.92-.59-1.43-.59-.52 0-1.04.2-1.43.59L10.3 9.45l-7.72 7.72c-.78.78-.78 2.05 0 2.83L4 21.41c.39.39.9.59 1.41.59.51 0 1.02-.2 1.41-.59l7.78-7.78 2.81-2.81c.8-.78.8-2.07 0-2.86zM5.41 20L4 18.59l7.72-7.72 1.47 1.35L5.41 20z\"/>\n",
              "  </svg>\n",
              "      </button>\n",
              "      \n",
              "  <style>\n",
              "    .colab-df-container {\n",
              "      display:flex;\n",
              "      flex-wrap:wrap;\n",
              "      gap: 12px;\n",
              "    }\n",
              "\n",
              "    .colab-df-convert {\n",
              "      background-color: #E8F0FE;\n",
              "      border: none;\n",
              "      border-radius: 50%;\n",
              "      cursor: pointer;\n",
              "      display: none;\n",
              "      fill: #1967D2;\n",
              "      height: 32px;\n",
              "      padding: 0 0 0 0;\n",
              "      width: 32px;\n",
              "    }\n",
              "\n",
              "    .colab-df-convert:hover {\n",
              "      background-color: #E2EBFA;\n",
              "      box-shadow: 0px 1px 2px rgba(60, 64, 67, 0.3), 0px 1px 3px 1px rgba(60, 64, 67, 0.15);\n",
              "      fill: #174EA6;\n",
              "    }\n",
              "\n",
              "    [theme=dark] .colab-df-convert {\n",
              "      background-color: #3B4455;\n",
              "      fill: #D2E3FC;\n",
              "    }\n",
              "\n",
              "    [theme=dark] .colab-df-convert:hover {\n",
              "      background-color: #434B5C;\n",
              "      box-shadow: 0px 1px 3px 1px rgba(0, 0, 0, 0.15);\n",
              "      filter: drop-shadow(0px 1px 2px rgba(0, 0, 0, 0.3));\n",
              "      fill: #FFFFFF;\n",
              "    }\n",
              "  </style>\n",
              "\n",
              "      <script>\n",
              "        const buttonEl =\n",
              "          document.querySelector('#df-57c9a10d-f338-43af-8c19-d17877d79b42 button.colab-df-convert');\n",
              "        buttonEl.style.display =\n",
              "          google.colab.kernel.accessAllowed ? 'block' : 'none';\n",
              "\n",
              "        async function convertToInteractive(key) {\n",
              "          const element = document.querySelector('#df-57c9a10d-f338-43af-8c19-d17877d79b42');\n",
              "          const dataTable =\n",
              "            await google.colab.kernel.invokeFunction('convertToInteractive',\n",
              "                                                     [key], {});\n",
              "          if (!dataTable) return;\n",
              "\n",
              "          const docLinkHtml = 'Like what you see? Visit the ' +\n",
              "            '<a target=\"_blank\" href=https://colab.research.google.com/notebooks/data_table.ipynb>data table notebook</a>'\n",
              "            + ' to learn more about interactive tables.';\n",
              "          element.innerHTML = '';\n",
              "          dataTable['output_type'] = 'display_data';\n",
              "          await google.colab.output.renderOutput(dataTable, element);\n",
              "          const docLink = document.createElement('div');\n",
              "          docLink.innerHTML = docLinkHtml;\n",
              "          element.appendChild(docLink);\n",
              "        }\n",
              "      </script>\n",
              "    </div>\n",
              "  </div>\n",
              "  "
            ]
          },
          "metadata": {},
          "execution_count": 63
        }
      ]
    },
    {
      "cell_type": "code",
      "source": [
        "df_news.isnull().sum()"
      ],
      "metadata": {
        "colab": {
          "base_uri": "https://localhost:8080/"
        },
        "id": "L5dIHpmuoXho",
        "outputId": "24670730-131b-4261-afc0-5459974435d9"
      },
      "execution_count": 64,
      "outputs": [
        {
          "output_type": "execute_result",
          "data": {
            "text/plain": [
              "Date    0\n",
              "News    0\n",
              "dtype: int64"
            ]
          },
          "metadata": {},
          "execution_count": 64
        }
      ]
    },
    {
      "cell_type": "code",
      "source": [
        "len(df_news)"
      ],
      "metadata": {
        "colab": {
          "base_uri": "https://localhost:8080/"
        },
        "id": "kSgHjNf3oa8m",
        "outputId": "e502f808-504c-4d4d-ddbe-6e392dfe04ed"
      },
      "execution_count": 65,
      "outputs": [
        {
          "output_type": "execute_result",
          "data": {
            "text/plain": [
              "7717"
            ]
          },
          "metadata": {},
          "execution_count": 65
        }
      ]
    },
    {
      "cell_type": "code",
      "source": [
        "dfs=dfs[[\"Date\",\"Open\",\"High\",\"Low\",\"Close\",\"Volume\"]]\n",
        "dfs.head()"
      ],
      "metadata": {
        "colab": {
          "base_uri": "https://localhost:8080/",
          "height": 206
        },
        "id": "doafGT1LqvPs",
        "outputId": "5bfa5218-d6dc-467b-9735-fe0ac2d626e1"
      },
      "execution_count": 66,
      "outputs": [
        {
          "output_type": "execute_result",
          "data": {
            "text/plain": [
              "         Date          Open          High           Low         Close   Volume\n",
              "0  2019-12-17  41052.359375  41401.648438  41005.179688  41352.171875  19000.0\n",
              "1  2019-12-18  41442.750000  41614.769531  41358.468750  41558.570313  24300.0\n",
              "2  2019-12-19  41571.820313  41719.289063  41456.398438  41673.921875  33300.0\n",
              "3  2019-12-20  41746.199219  41809.960938  41636.109375  41681.539063  33600.0\n",
              "4  2019-12-23  41548.261719  41701.621094  41474.609375  41642.660156   6200.0"
            ],
            "text/html": [
              "\n",
              "  <div id=\"df-92761b96-4a01-4cab-9d31-ed7bdf33bec4\">\n",
              "    <div class=\"colab-df-container\">\n",
              "      <div>\n",
              "<style scoped>\n",
              "    .dataframe tbody tr th:only-of-type {\n",
              "        vertical-align: middle;\n",
              "    }\n",
              "\n",
              "    .dataframe tbody tr th {\n",
              "        vertical-align: top;\n",
              "    }\n",
              "\n",
              "    .dataframe thead th {\n",
              "        text-align: right;\n",
              "    }\n",
              "</style>\n",
              "<table border=\"1\" class=\"dataframe\">\n",
              "  <thead>\n",
              "    <tr style=\"text-align: right;\">\n",
              "      <th></th>\n",
              "      <th>Date</th>\n",
              "      <th>Open</th>\n",
              "      <th>High</th>\n",
              "      <th>Low</th>\n",
              "      <th>Close</th>\n",
              "      <th>Volume</th>\n",
              "    </tr>\n",
              "  </thead>\n",
              "  <tbody>\n",
              "    <tr>\n",
              "      <th>0</th>\n",
              "      <td>2019-12-17</td>\n",
              "      <td>41052.359375</td>\n",
              "      <td>41401.648438</td>\n",
              "      <td>41005.179688</td>\n",
              "      <td>41352.171875</td>\n",
              "      <td>19000.0</td>\n",
              "    </tr>\n",
              "    <tr>\n",
              "      <th>1</th>\n",
              "      <td>2019-12-18</td>\n",
              "      <td>41442.750000</td>\n",
              "      <td>41614.769531</td>\n",
              "      <td>41358.468750</td>\n",
              "      <td>41558.570313</td>\n",
              "      <td>24300.0</td>\n",
              "    </tr>\n",
              "    <tr>\n",
              "      <th>2</th>\n",
              "      <td>2019-12-19</td>\n",
              "      <td>41571.820313</td>\n",
              "      <td>41719.289063</td>\n",
              "      <td>41456.398438</td>\n",
              "      <td>41673.921875</td>\n",
              "      <td>33300.0</td>\n",
              "    </tr>\n",
              "    <tr>\n",
              "      <th>3</th>\n",
              "      <td>2019-12-20</td>\n",
              "      <td>41746.199219</td>\n",
              "      <td>41809.960938</td>\n",
              "      <td>41636.109375</td>\n",
              "      <td>41681.539063</td>\n",
              "      <td>33600.0</td>\n",
              "    </tr>\n",
              "    <tr>\n",
              "      <th>4</th>\n",
              "      <td>2019-12-23</td>\n",
              "      <td>41548.261719</td>\n",
              "      <td>41701.621094</td>\n",
              "      <td>41474.609375</td>\n",
              "      <td>41642.660156</td>\n",
              "      <td>6200.0</td>\n",
              "    </tr>\n",
              "  </tbody>\n",
              "</table>\n",
              "</div>\n",
              "      <button class=\"colab-df-convert\" onclick=\"convertToInteractive('df-92761b96-4a01-4cab-9d31-ed7bdf33bec4')\"\n",
              "              title=\"Convert this dataframe to an interactive table.\"\n",
              "              style=\"display:none;\">\n",
              "        \n",
              "  <svg xmlns=\"http://www.w3.org/2000/svg\" height=\"24px\"viewBox=\"0 0 24 24\"\n",
              "       width=\"24px\">\n",
              "    <path d=\"M0 0h24v24H0V0z\" fill=\"none\"/>\n",
              "    <path d=\"M18.56 5.44l.94 2.06.94-2.06 2.06-.94-2.06-.94-.94-2.06-.94 2.06-2.06.94zm-11 1L8.5 8.5l.94-2.06 2.06-.94-2.06-.94L8.5 2.5l-.94 2.06-2.06.94zm10 10l.94 2.06.94-2.06 2.06-.94-2.06-.94-.94-2.06-.94 2.06-2.06.94z\"/><path d=\"M17.41 7.96l-1.37-1.37c-.4-.4-.92-.59-1.43-.59-.52 0-1.04.2-1.43.59L10.3 9.45l-7.72 7.72c-.78.78-.78 2.05 0 2.83L4 21.41c.39.39.9.59 1.41.59.51 0 1.02-.2 1.41-.59l7.78-7.78 2.81-2.81c.8-.78.8-2.07 0-2.86zM5.41 20L4 18.59l7.72-7.72 1.47 1.35L5.41 20z\"/>\n",
              "  </svg>\n",
              "      </button>\n",
              "      \n",
              "  <style>\n",
              "    .colab-df-container {\n",
              "      display:flex;\n",
              "      flex-wrap:wrap;\n",
              "      gap: 12px;\n",
              "    }\n",
              "\n",
              "    .colab-df-convert {\n",
              "      background-color: #E8F0FE;\n",
              "      border: none;\n",
              "      border-radius: 50%;\n",
              "      cursor: pointer;\n",
              "      display: none;\n",
              "      fill: #1967D2;\n",
              "      height: 32px;\n",
              "      padding: 0 0 0 0;\n",
              "      width: 32px;\n",
              "    }\n",
              "\n",
              "    .colab-df-convert:hover {\n",
              "      background-color: #E2EBFA;\n",
              "      box-shadow: 0px 1px 2px rgba(60, 64, 67, 0.3), 0px 1px 3px 1px rgba(60, 64, 67, 0.15);\n",
              "      fill: #174EA6;\n",
              "    }\n",
              "\n",
              "    [theme=dark] .colab-df-convert {\n",
              "      background-color: #3B4455;\n",
              "      fill: #D2E3FC;\n",
              "    }\n",
              "\n",
              "    [theme=dark] .colab-df-convert:hover {\n",
              "      background-color: #434B5C;\n",
              "      box-shadow: 0px 1px 3px 1px rgba(0, 0, 0, 0.15);\n",
              "      filter: drop-shadow(0px 1px 2px rgba(0, 0, 0, 0.3));\n",
              "      fill: #FFFFFF;\n",
              "    }\n",
              "  </style>\n",
              "\n",
              "      <script>\n",
              "        const buttonEl =\n",
              "          document.querySelector('#df-92761b96-4a01-4cab-9d31-ed7bdf33bec4 button.colab-df-convert');\n",
              "        buttonEl.style.display =\n",
              "          google.colab.kernel.accessAllowed ? 'block' : 'none';\n",
              "\n",
              "        async function convertToInteractive(key) {\n",
              "          const element = document.querySelector('#df-92761b96-4a01-4cab-9d31-ed7bdf33bec4');\n",
              "          const dataTable =\n",
              "            await google.colab.kernel.invokeFunction('convertToInteractive',\n",
              "                                                     [key], {});\n",
              "          if (!dataTable) return;\n",
              "\n",
              "          const docLinkHtml = 'Like what you see? Visit the ' +\n",
              "            '<a target=\"_blank\" href=https://colab.research.google.com/notebooks/data_table.ipynb>data table notebook</a>'\n",
              "            + ' to learn more about interactive tables.';\n",
              "          element.innerHTML = '';\n",
              "          dataTable['output_type'] = 'display_data';\n",
              "          await google.colab.output.renderOutput(dataTable, element);\n",
              "          const docLink = document.createElement('div');\n",
              "          docLink.innerHTML = docLinkHtml;\n",
              "          element.appendChild(docLink);\n",
              "        }\n",
              "      </script>\n",
              "    </div>\n",
              "  </div>\n",
              "  "
            ]
          },
          "metadata": {},
          "execution_count": 66
        }
      ]
    },
    {
      "cell_type": "code",
      "source": [
        "# Check for common information of the stock dataset\n",
        "dfs[\"Date\"]= pd.to_datetime(dfs[\"Date\"])\n",
        "dfs.info()"
      ],
      "metadata": {
        "colab": {
          "base_uri": "https://localhost:8080/"
        },
        "id": "aMx5bVryrCbz",
        "outputId": "a5b23759-441e-4eed-89e4-d208980d7212"
      },
      "execution_count": 67,
      "outputs": [
        {
          "output_type": "stream",
          "name": "stdout",
          "text": [
            "<class 'pandas.core.frame.DataFrame'>\n",
            "RangeIndex: 252 entries, 0 to 251\n",
            "Data columns (total 6 columns):\n",
            " #   Column  Non-Null Count  Dtype         \n",
            "---  ------  --------------  -----         \n",
            " 0   Date    252 non-null    datetime64[ns]\n",
            " 1   Open    250 non-null    float64       \n",
            " 2   High    250 non-null    float64       \n",
            " 3   Low     250 non-null    float64       \n",
            " 4   Close   250 non-null    float64       \n",
            " 5   Volume  250 non-null    float64       \n",
            "dtypes: datetime64[ns](1), float64(5)\n",
            "memory usage: 11.9 KB\n"
          ]
        }
      ]
    },
    {
      "cell_type": "code",
      "source": [
        "dfs.describe()"
      ],
      "metadata": {
        "colab": {
          "base_uri": "https://localhost:8080/",
          "height": 300
        },
        "id": "YRvbrsSgrO4g",
        "outputId": "79e3b643-9180-4cda-c6ae-eace1630065c"
      },
      "execution_count": 68,
      "outputs": [
        {
          "output_type": "execute_result",
          "data": {
            "text/plain": [
              "               Open          High           Low         Close         Volume\n",
              "count    250.000000    250.000000    250.000000    250.000000     250.000000\n",
              "mean   37804.237375  38071.182859  37422.826992  37745.454117   19134.000000\n",
              "std     4507.985769   4380.974060   4647.212947   4535.304336   16540.261333\n",
              "min    26499.810547  27462.869141  25638.900391  25981.240234       0.000000\n",
              "25%    34369.659179  34779.932618  33975.389648  34257.097656   13125.000000\n",
              "50%    38489.480469  38750.359375  38234.869140  38425.974610   17000.000000\n",
              "75%    41179.222656  41376.482422  41023.923828  41135.233399   21075.000000\n",
              "max    46774.320313  46992.570313  46627.601563  46890.339844  188300.000000"
            ],
            "text/html": [
              "\n",
              "  <div id=\"df-179b6f67-2093-4345-8f6e-1300408f6595\">\n",
              "    <div class=\"colab-df-container\">\n",
              "      <div>\n",
              "<style scoped>\n",
              "    .dataframe tbody tr th:only-of-type {\n",
              "        vertical-align: middle;\n",
              "    }\n",
              "\n",
              "    .dataframe tbody tr th {\n",
              "        vertical-align: top;\n",
              "    }\n",
              "\n",
              "    .dataframe thead th {\n",
              "        text-align: right;\n",
              "    }\n",
              "</style>\n",
              "<table border=\"1\" class=\"dataframe\">\n",
              "  <thead>\n",
              "    <tr style=\"text-align: right;\">\n",
              "      <th></th>\n",
              "      <th>Open</th>\n",
              "      <th>High</th>\n",
              "      <th>Low</th>\n",
              "      <th>Close</th>\n",
              "      <th>Volume</th>\n",
              "    </tr>\n",
              "  </thead>\n",
              "  <tbody>\n",
              "    <tr>\n",
              "      <th>count</th>\n",
              "      <td>250.000000</td>\n",
              "      <td>250.000000</td>\n",
              "      <td>250.000000</td>\n",
              "      <td>250.000000</td>\n",
              "      <td>250.000000</td>\n",
              "    </tr>\n",
              "    <tr>\n",
              "      <th>mean</th>\n",
              "      <td>37804.237375</td>\n",
              "      <td>38071.182859</td>\n",
              "      <td>37422.826992</td>\n",
              "      <td>37745.454117</td>\n",
              "      <td>19134.000000</td>\n",
              "    </tr>\n",
              "    <tr>\n",
              "      <th>std</th>\n",
              "      <td>4507.985769</td>\n",
              "      <td>4380.974060</td>\n",
              "      <td>4647.212947</td>\n",
              "      <td>4535.304336</td>\n",
              "      <td>16540.261333</td>\n",
              "    </tr>\n",
              "    <tr>\n",
              "      <th>min</th>\n",
              "      <td>26499.810547</td>\n",
              "      <td>27462.869141</td>\n",
              "      <td>25638.900391</td>\n",
              "      <td>25981.240234</td>\n",
              "      <td>0.000000</td>\n",
              "    </tr>\n",
              "    <tr>\n",
              "      <th>25%</th>\n",
              "      <td>34369.659179</td>\n",
              "      <td>34779.932618</td>\n",
              "      <td>33975.389648</td>\n",
              "      <td>34257.097656</td>\n",
              "      <td>13125.000000</td>\n",
              "    </tr>\n",
              "    <tr>\n",
              "      <th>50%</th>\n",
              "      <td>38489.480469</td>\n",
              "      <td>38750.359375</td>\n",
              "      <td>38234.869140</td>\n",
              "      <td>38425.974610</td>\n",
              "      <td>17000.000000</td>\n",
              "    </tr>\n",
              "    <tr>\n",
              "      <th>75%</th>\n",
              "      <td>41179.222656</td>\n",
              "      <td>41376.482422</td>\n",
              "      <td>41023.923828</td>\n",
              "      <td>41135.233399</td>\n",
              "      <td>21075.000000</td>\n",
              "    </tr>\n",
              "    <tr>\n",
              "      <th>max</th>\n",
              "      <td>46774.320313</td>\n",
              "      <td>46992.570313</td>\n",
              "      <td>46627.601563</td>\n",
              "      <td>46890.339844</td>\n",
              "      <td>188300.000000</td>\n",
              "    </tr>\n",
              "  </tbody>\n",
              "</table>\n",
              "</div>\n",
              "      <button class=\"colab-df-convert\" onclick=\"convertToInteractive('df-179b6f67-2093-4345-8f6e-1300408f6595')\"\n",
              "              title=\"Convert this dataframe to an interactive table.\"\n",
              "              style=\"display:none;\">\n",
              "        \n",
              "  <svg xmlns=\"http://www.w3.org/2000/svg\" height=\"24px\"viewBox=\"0 0 24 24\"\n",
              "       width=\"24px\">\n",
              "    <path d=\"M0 0h24v24H0V0z\" fill=\"none\"/>\n",
              "    <path d=\"M18.56 5.44l.94 2.06.94-2.06 2.06-.94-2.06-.94-.94-2.06-.94 2.06-2.06.94zm-11 1L8.5 8.5l.94-2.06 2.06-.94-2.06-.94L8.5 2.5l-.94 2.06-2.06.94zm10 10l.94 2.06.94-2.06 2.06-.94-2.06-.94-.94-2.06-.94 2.06-2.06.94z\"/><path d=\"M17.41 7.96l-1.37-1.37c-.4-.4-.92-.59-1.43-.59-.52 0-1.04.2-1.43.59L10.3 9.45l-7.72 7.72c-.78.78-.78 2.05 0 2.83L4 21.41c.39.39.9.59 1.41.59.51 0 1.02-.2 1.41-.59l7.78-7.78 2.81-2.81c.8-.78.8-2.07 0-2.86zM5.41 20L4 18.59l7.72-7.72 1.47 1.35L5.41 20z\"/>\n",
              "  </svg>\n",
              "      </button>\n",
              "      \n",
              "  <style>\n",
              "    .colab-df-container {\n",
              "      display:flex;\n",
              "      flex-wrap:wrap;\n",
              "      gap: 12px;\n",
              "    }\n",
              "\n",
              "    .colab-df-convert {\n",
              "      background-color: #E8F0FE;\n",
              "      border: none;\n",
              "      border-radius: 50%;\n",
              "      cursor: pointer;\n",
              "      display: none;\n",
              "      fill: #1967D2;\n",
              "      height: 32px;\n",
              "      padding: 0 0 0 0;\n",
              "      width: 32px;\n",
              "    }\n",
              "\n",
              "    .colab-df-convert:hover {\n",
              "      background-color: #E2EBFA;\n",
              "      box-shadow: 0px 1px 2px rgba(60, 64, 67, 0.3), 0px 1px 3px 1px rgba(60, 64, 67, 0.15);\n",
              "      fill: #174EA6;\n",
              "    }\n",
              "\n",
              "    [theme=dark] .colab-df-convert {\n",
              "      background-color: #3B4455;\n",
              "      fill: #D2E3FC;\n",
              "    }\n",
              "\n",
              "    [theme=dark] .colab-df-convert:hover {\n",
              "      background-color: #434B5C;\n",
              "      box-shadow: 0px 1px 3px 1px rgba(0, 0, 0, 0.15);\n",
              "      filter: drop-shadow(0px 1px 2px rgba(0, 0, 0, 0.3));\n",
              "      fill: #FFFFFF;\n",
              "    }\n",
              "  </style>\n",
              "\n",
              "      <script>\n",
              "        const buttonEl =\n",
              "          document.querySelector('#df-179b6f67-2093-4345-8f6e-1300408f6595 button.colab-df-convert');\n",
              "        buttonEl.style.display =\n",
              "          google.colab.kernel.accessAllowed ? 'block' : 'none';\n",
              "\n",
              "        async function convertToInteractive(key) {\n",
              "          const element = document.querySelector('#df-179b6f67-2093-4345-8f6e-1300408f6595');\n",
              "          const dataTable =\n",
              "            await google.colab.kernel.invokeFunction('convertToInteractive',\n",
              "                                                     [key], {});\n",
              "          if (!dataTable) return;\n",
              "\n",
              "          const docLinkHtml = 'Like what you see? Visit the ' +\n",
              "            '<a target=\"_blank\" href=https://colab.research.google.com/notebooks/data_table.ipynb>data table notebook</a>'\n",
              "            + ' to learn more about interactive tables.';\n",
              "          element.innerHTML = '';\n",
              "          dataTable['output_type'] = 'display_data';\n",
              "          await google.colab.output.renderOutput(dataTable, element);\n",
              "          const docLink = document.createElement('div');\n",
              "          docLink.innerHTML = docLinkHtml;\n",
              "          element.appendChild(docLink);\n",
              "        }\n",
              "      </script>\n",
              "    </div>\n",
              "  </div>\n",
              "  "
            ]
          },
          "metadata": {},
          "execution_count": 68
        }
      ]
    },
    {
      "cell_type": "code",
      "source": [
        "dfs.isnull().sum()"
      ],
      "metadata": {
        "colab": {
          "base_uri": "https://localhost:8080/"
        },
        "id": "K160O0SprXtD",
        "outputId": "48ca4023-8c20-4cd3-99be-a733ec50754d"
      },
      "execution_count": 69,
      "outputs": [
        {
          "output_type": "execute_result",
          "data": {
            "text/plain": [
              "Date      0\n",
              "Open      2\n",
              "High      2\n",
              "Low       2\n",
              "Close     2\n",
              "Volume    2\n",
              "dtype: int64"
            ]
          },
          "metadata": {},
          "execution_count": 69
        }
      ]
    },
    {
      "cell_type": "code",
      "source": [
        "dfs.dropna(inplace=True)"
      ],
      "metadata": {
        "id": "00ETXs_KrgNe"
      },
      "execution_count": 70,
      "outputs": []
    },
    {
      "cell_type": "code",
      "source": [
        "len(dfs)"
      ],
      "metadata": {
        "colab": {
          "base_uri": "https://localhost:8080/"
        },
        "id": "AXp87Sh1rkQO",
        "outputId": "ff9647c4-39a4-4386-ca72-e60ee4243244"
      },
      "execution_count": 71,
      "outputs": [
        {
          "output_type": "execute_result",
          "data": {
            "text/plain": [
              "250"
            ]
          },
          "metadata": {},
          "execution_count": 71
        }
      ]
    },
    {
      "cell_type": "code",
      "source": [
        "# Figure plot\n",
        "plt.figure(figsize=(20,10))\n",
        "dfs['Close'].plot()\n",
        "plt.ylabel('BSESN')"
      ],
      "metadata": {
        "colab": {
          "base_uri": "https://localhost:8080/",
          "height": 609
        },
        "id": "FiqkklJDrrNn",
        "outputId": "d61f1f12-188f-4db3-fdab-f53a3dbf7ef5"
      },
      "execution_count": 72,
      "outputs": [
        {
          "output_type": "execute_result",
          "data": {
            "text/plain": [
              "Text(0, 0.5, 'BSESN')"
            ]
          },
          "metadata": {},
          "execution_count": 72
        },
        {
          "output_type": "display_data",
          "data": {
            "text/plain": [
              "<Figure size 1440x720 with 1 Axes>"
            ],
            "image/png": "[encoded data removed]"
          },
          "metadata": {
            "needs_background": "light"
          }
        }
      ]
    },
    {
      "cell_type": "markdown",
      "source": [
        "## Removing the unwanted characters from the news headlines"
      ],
      "metadata": {
        "id": "O5VFkoowCsrs"
      }
    },
    {
      "cell_type": "code",
      "source": [
        "#removing unwanted characters from the News\n",
        "df_news.replace(\"[^a-zA-Z']\",\" \",regex=True,inplace=True)\n",
        "df_news[\"News\"].head(5)"
      ],
      "metadata": {
        "colab": {
          "base_uri": "https://localhost:8080/"
        },
        "id": "6Y1wRe-MshGD",
        "outputId": "2de939ca-191c-456e-cfd4-d7842d6bd4c4"
      },
      "execution_count": 73,
      "outputs": [
        {
          "output_type": "execute_result",
          "data": {
            "text/plain": [
              "0    Status quo will not be disturbed at Ayodhya  s...\n",
              "1    Powerless north India gropes in the dark Think...\n",
              "2    The string that pulled Stephen Hawking to Indi...\n",
              "3    Light combat craft takes India into club class...\n",
              "4    Light combat craft takes India into club class...\n",
              "Name: News, dtype: object"
            ]
          },
          "metadata": {},
          "execution_count": 73
        }
      ]
    },
    {
      "cell_type": "markdown",
      "source": [
        "## Plotting the moving average"
      ],
      "metadata": {
        "id": "czqoOlzmC2gD"
      }
    },
    {
      "cell_type": "code",
      "source": [
        "#Plotting moving average\n",
        "close = dfs['Close']\n",
        "\n",
        "ma = close.rolling(window = 50).mean()\n",
        "std = close.rolling(window = 50).std()\n",
        "\n",
        "plt.figure(figsize=(20,10))\n",
        "dfs['Close'].plot(color='g',label='Close')\n",
        "ma.plot(color = 'r',label='Rolling Mean')\n",
        "std.plot(label = 'Rolling Standard Deviation')\n",
        "\n",
        "plt.legend()"
      ],
      "metadata": {
        "colab": {
          "base_uri": "https://localhost:8080/",
          "height": 609
        },
        "id": "h-vTko_Dsr9I",
        "outputId": "b3ca878d-9343-4928-8857-4b8b40a76a7c"
      },
      "execution_count": 74,
      "outputs": [
        {
          "output_type": "execute_result",
          "data": {
            "text/plain": [
              "<matplotlib.legend.Legend at 0x7ff96e183c40>"
            ]
          },
          "metadata": {},
          "execution_count": 74
        },
        {
          "output_type": "display_data",
          "data": {
            "text/plain": [
              "<Figure size 1440x720 with 1 Axes>"
            ],
            "image/png": "[encoded data removed]"
          },
          "metadata": {
            "needs_background": "light"
          }
        }
      ]
    },
    {
      "cell_type": "markdown",
      "source": [
        "## Plotting the returns"
      ],
      "metadata": {
        "id": "EtQ3Z90xC6mj"
      }
    },
    {
      "cell_type": "code",
      "source": [
        "#Plotting returns\n",
        "returns = close / close.shift(1) - 1\n",
        "\n",
        "plt.figure(figsize = (20,10))\n",
        "returns.plot(label='Return', color = 'g')\n",
        "plt.title(\"Returns\")"
      ],
      "metadata": {
        "colab": {
          "base_uri": "https://localhost:8080/",
          "height": 624
        },
        "id": "mrc5uzgBs7p6",
        "outputId": "15ec8b91-f4e3-4dbe-970d-e9bc2c9bde7e"
      },
      "execution_count": 75,
      "outputs": [
        {
          "output_type": "execute_result",
          "data": {
            "text/plain": [
              "Text(0.5, 1.0, 'Returns')"
            ]
          },
          "metadata": {},
          "execution_count": 75
        },
        {
          "output_type": "display_data",
          "data": {
            "text/plain": [
              "<Figure size 1440x720 with 1 Axes>"
            ],
            "image/png": "[encoded data removed]"
          },
          "metadata": {
            "needs_background": "light"
          }
        }
      ]
    },
    {
      "cell_type": "code",
      "source": [
        "# Train test split\n",
        "train = dfs[:126]\n",
        "test = dfs[126:]"
      ],
      "metadata": {
        "id": "hv8WyDjetAp3"
      },
      "execution_count": 76,
      "outputs": []
    },
    {
      "cell_type": "markdown",
      "source": [
        "## Stationery Test"
      ],
      "metadata": {
        "id": "E50FGEzgDFyF"
      }
    },
    {
      "cell_type": "code",
      "source": [
        "# Stationarity test\n",
        "def test_stationarity(timeseries):\n",
        "\n",
        "    # Determine the rolling statistics\n",
        "    rolmean = timeseries.rolling(20).mean()\n",
        "    rolstd = timeseries.rolling(20).std()\n",
        "\n",
        "    # Plot rolling statistics:\n",
        "    plt.figure(figsize=(20, 10))\n",
        "    plt.plot(timeseries, color='blue', label='original')\n",
        "    plt.plot(rolmean, color='r', label='rolling mean')\n",
        "    plt.plot(rolstd, color='black', label='rolling std')\n",
        "    plt.xlabel('Date')\n",
        "    plt.legend()\n",
        "    plt.title('Rolling Mean and Standard Deviation',  fontsize=30)\n",
        "    plt.show(block=False)\n",
        "\n",
        "    print('Results of dickey fuller test')\n",
        "    result = adfuller(timeseries, autolag='AIC')\n",
        "    labels = ['ADF Test Statistic', 'p-value',\n",
        "              '#Lags Used', 'Number of Observations Used']\n",
        "    for value, label in zip(result, labels):\n",
        "        print(label+' : '+str(value))\n",
        "    if result[1] <= 0.05:\n",
        "        print(\"Strong evidence against the null hypothesis(Ho), reject the null hypothesis. Data is stationary\")\n",
        "    else:\n",
        "        print(\"Weak evidence against null hypothesis, time series is non-stationary \")\n",
        "\n",
        "\n",
        "test_stationarity(train['Close'])"
      ],
      "metadata": {
        "colab": {
          "base_uri": "https://localhost:8080/",
          "height": 738
        },
        "id": "fLEk6CP4tlxE",
        "outputId": "28b1000d-f5c7-40e7-ff64-ec7dbda80951"
      },
      "execution_count": 77,
      "outputs": [
        {
          "output_type": "display_data",
          "data": {
            "text/plain": [
              "<Figure size 1440x720 with 1 Axes>"
            ],
            "image/png": "[encoded data removed]"
          },
          "metadata": {
            "needs_background": "light"
          }
        },
        {
          "output_type": "stream",
          "name": "stdout",
          "text": [
            "Results of dickey fuller test\n",
            "ADF Test Statistic : -1.4258530903773334\n",
            "p-value : 0.5698210001003253\n",
            "#Lags Used : 6\n",
            "Number of Observations Used : 119\n",
            "Weak evidence against null hypothesis, time series is non-stationary \n"
          ]
        }
      ]
    },
    {
      "cell_type": "code",
      "source": [
        "train_log = np.log(train['Close']) \n",
        "test_log = np.log(test['Close'])\n",
        "\n",
        "mav = train_log.rolling(24).mean() \n",
        "plt.figure(figsize = (20,10))\n",
        "plt.plot(train_log) \n",
        "plt.plot(mav, color = 'red')"
      ],
      "metadata": {
        "colab": {
          "base_uri": "https://localhost:8080/",
          "height": 609
        },
        "id": "ke0ojeTYtyNZ",
        "outputId": "8ca1de65-c194-4028-c3a6-9823daa339c4"
      },
      "execution_count": 78,
      "outputs": [
        {
          "output_type": "execute_result",
          "data": {
            "text/plain": [
              "[<matplotlib.lines.Line2D at 0x7ff96e9cb880>]"
            ]
          },
          "metadata": {},
          "execution_count": 78
        },
        {
          "output_type": "display_data",
          "data": {
            "text/plain": [
              "<Figure size 1440x720 with 1 Axes>"
            ],
            "image/png": "[encoded data removed]"
          },
          "metadata": {
            "needs_background": "light"
          }
        }
      ]
    },
    {
      "cell_type": "code",
      "source": [
        "train_log.dropna(inplace = True)\n",
        "test_log.dropna(inplace = True)\n",
        "\n",
        "test_stationarity(train_log)"
      ],
      "metadata": {
        "colab": {
          "base_uri": "https://localhost:8080/",
          "height": 738
        },
        "id": "GdAWd83luIo8",
        "outputId": "6ed40406-8da8-44f9-a416-c9dd8b316042"
      },
      "execution_count": 79,
      "outputs": [
        {
          "output_type": "display_data",
          "data": {
            "text/plain": [
              "<Figure size 1440x720 with 1 Axes>"
            ],
            "image/png": "[encoded data removed]"
          },
          "metadata": {
            "needs_background": "light"
          }
        },
        {
          "output_type": "stream",
          "name": "stdout",
          "text": [
            "Results of dickey fuller test\n",
            "ADF Test Statistic : -1.6500759184061546\n",
            "p-value : 0.457000831354361\n",
            "#Lags Used : 7\n",
            "Number of Observations Used : 118\n",
            "Weak evidence against null hypothesis, time series is non-stationary \n"
          ]
        }
      ]
    },
    {
      "cell_type": "code",
      "source": [
        "train_log_diff = train_log - mav\n",
        "train_log_diff.dropna(inplace = True)\n",
        "\n",
        "test_stationarity(train_log_diff)"
      ],
      "metadata": {
        "colab": {
          "base_uri": "https://localhost:8080/",
          "height": 738
        },
        "id": "i95G2EKSuMdn",
        "outputId": "0533da06-b842-47f4-80f4-9cce4b919c0c"
      },
      "execution_count": 80,
      "outputs": [
        {
          "output_type": "display_data",
          "data": {
            "text/plain": [
              "<Figure size 1440x720 with 1 Axes>"
            ],
            "image/png": "[encoded data removed]"
          },
          "metadata": {
            "needs_background": "light"
          }
        },
        {
          "output_type": "stream",
          "name": "stdout",
          "text": [
            "Results of dickey fuller test\n",
            "ADF Test Statistic : -2.1839536124465115\n",
            "p-value : 0.2121208297747278\n",
            "#Lags Used : 7\n",
            "Number of Observations Used : 95\n",
            "Weak evidence against null hypothesis, time series is non-stationary \n"
          ]
        }
      ]
    },
    {
      "cell_type": "markdown",
      "source": [
        "## Using auto arima to make predictions using log data"
      ],
      "metadata": {
        "id": "xR3o-tDxDS5r"
      }
    },
    {
      "cell_type": "code",
      "source": [
        "model = auto_arima(train_log, trace = True, error_action = 'ignore', suppress_warnings = True)\n",
        "model.fit(train_log)\n",
        "predictions = model.predict(periods = len(test))\n",
        "predictions = pd.DataFrame(predictions,index = test_log.index,columns=['Prediction'])"
      ],
      "metadata": {
        "colab": {
          "base_uri": "https://localhost:8080/"
        },
        "id": "gxO-8Kv4uQml",
        "outputId": "24a3d279-83e6-4646-e0bc-3a2fae49b152"
      },
      "execution_count": 81,
      "outputs": [
        {
          "output_type": "stream",
          "name": "stdout",
          "text": [
            "Performing stepwise search to minimize aic\n",
            " ARIMA(2,1,2)(0,0,0)[0] intercept   : AIC=-542.240, Time=0.57 sec\n",
            " ARIMA(0,1,0)(0,0,0)[0] intercept   : AIC=-545.110, Time=0.04 sec\n",
            " ARIMA(1,1,0)(0,0,0)[0] intercept   : AIC=-546.632, Time=0.09 sec\n",
            " ARIMA(0,1,1)(0,0,0)[0] intercept   : AIC=-546.291, Time=0.09 sec\n",
            " ARIMA(0,1,0)(0,0,0)[0]             : AIC=-546.846, Time=0.04 sec\n",
            " ARIMA(1,1,1)(0,0,0)[0] intercept   : AIC=-544.676, Time=0.16 sec\n",
            "\n",
            "Best model:  ARIMA(0,1,0)(0,0,0)[0]          \n",
            "Total fit time: 1.015 seconds\n"
          ]
        }
      ]
    },
    {
      "cell_type": "code",
      "source": [
        "plt.plot(train_log, label='Train')\n",
        "plt.plot(test_log, label='Test')\n",
        "plt.plot(predictions, label='Prediction')\n",
        "plt.title('BSESN Stock Price Prediction')\n",
        "plt.xlabel('Time')\n",
        "plt.ylabel('Actual Stock Price')"
      ],
      "metadata": {
        "colab": {
          "base_uri": "https://localhost:8080/",
          "height": 312
        },
        "id": "SOzzhNcDuVgX",
        "outputId": "f0bf2f31-faa1-481f-c022-b6e5e9377207"
      },
      "execution_count": 82,
      "outputs": [
        {
          "output_type": "execute_result",
          "data": {
            "text/plain": [
              "Text(0, 0.5, 'Actual Stock Price')"
            ]
          },
          "metadata": {},
          "execution_count": 82
        },
        {
          "output_type": "display_data",
          "data": {
            "text/plain": [
              "<Figure size 432x288 with 1 Axes>"
            ],
            "image/png": "[encoded data removed]"
          },
          "metadata": {
            "needs_background": "light"
          }
        }
      ]
    },
    {
      "cell_type": "markdown",
      "source": [
        "## Textual Analysis "
      ],
      "metadata": {
        "id": "ofm_zbvEDlLI"
      }
    },
    {
      "cell_type": "code",
      "source": [
        "#Functions to get the subjectivity and polarity\n",
        "def getSubjectivity(text):\n",
        "  return TextBlob(text).sentiment.subjectivity\n",
        "\n",
        "def getPolarity(text):\n",
        "  return  TextBlob(text).sentiment.polarity"
      ],
      "metadata": {
        "id": "njRqJrF1vFnn"
      },
      "execution_count": 83,
      "outputs": []
    },
    {
      "cell_type": "code",
      "source": [
        "df_news[['Subjectivity', 'Polarity']] = df_news['News'].apply(lambda x: pd.Series([getSubjectivity(x), getPolarity(x)]))\n"
      ],
      "metadata": {
        "id": "bsGIugpiv6Je"
      },
      "execution_count": 84,
      "outputs": []
    },
    {
      "cell_type": "code",
      "source": [
        "import pandas as pd\n",
        "from nltk.sentiment.vader import SentimentIntensityAnalyzer\n",
        "\n",
        "sia = SentimentIntensityAnalyzer()\n",
        "\n",
        "# define a function to calculate sentiment scores for a given text\n",
        "def get_sentiment_scores(text):\n",
        "    scores = sia.polarity_scores(text)\n",
        "    return scores['compound'], scores['neg'], scores['neu'], scores['pos']\n",
        "\n",
        "# apply the function to each row of the DataFrame\n",
        "df_news[['Compound', 'Negative', 'Neutral', 'Positive']] = df_news['News'].apply(lambda x: pd.Series(get_sentiment_scores(x)))\n"
      ],
      "metadata": {
        "id": "ZvtcdQQsxVnL"
      },
      "execution_count": 85,
      "outputs": []
    },
    {
      "cell_type": "markdown",
      "source": [
        "## Merging Historical and textual Data "
      ],
      "metadata": {
        "id": "AzQhXbPlDqcr"
      }
    },
    {
      "cell_type": "code",
      "source": [
        "# Merge historical and Textual Data \n",
        "df_merge = pd.merge(dfs, df_news, how='inner', on='Date')\n",
        "df_merge"
      ],
      "metadata": {
        "colab": {
          "base_uri": "https://localhost:8080/",
          "height": 424
        },
        "id": "LPDUb7FN3iVX",
        "outputId": "67d565c7-f4eb-447a-bcc5-9f30ffbd30bf"
      },
      "execution_count": 86,
      "outputs": [
        {
          "output_type": "execute_result",
          "data": {
            "text/plain": [
              "          Date          Open          High           Low         Close  \\\n",
              "0   2019-12-17  41052.359375  41401.648438  41005.179688  41352.171875   \n",
              "1   2019-12-18  41442.750000  41614.769531  41358.468750  41558.570313   \n",
              "2   2019-12-19  41571.820313  41719.289063  41456.398438  41673.921875   \n",
              "3   2019-12-20  41746.199219  41809.960938  41636.109375  41681.539063   \n",
              "4   2019-12-23  41548.261719  41701.621094  41474.609375  41642.660156   \n",
              "..         ...           ...           ...           ...           ...   \n",
              "245 2020-12-11  46060.320313  46309.628906  45706.218750  46099.011719   \n",
              "246 2020-12-14  46284.699219  46373.339844  45951.531250  46253.460938   \n",
              "247 2020-12-15  46287.390625  46350.300781  45841.671875  46263.171875   \n",
              "248 2020-12-16  46573.308594  46704.968750  46402.199219  46666.460938   \n",
              "249 2020-12-17  46774.320313  46992.570313  46627.601563  46890.339844   \n",
              "\n",
              "      Volume                                               News  Subjectivity  \\\n",
              "0    19000.0  After Jagannath Temple  Puri beach devpt plan ...      0.356256   \n",
              "1    24300.0  What is Citizenship  Amendment  Bill       All...      0.396291   \n",
              "2    33300.0  Only     of CCA covered after revamp of canals...      0.371783   \n",
              "3    33600.0  I'm done playing the good girl  I want to be a...      0.366210   \n",
              "4     6200.0  Weekly Horoscope  December        Check predic...      0.393635   \n",
              "..       ...                                                ...           ...   \n",
              "245  26300.0  Ways to get you in the mood for sex when you'r...      0.374037   \n",
              "246  18400.0  No threat from Covid claims to balance sheets ...      0.382335   \n",
              "247  16400.0        RT PCR tests in a day  only   found  ve ...      0.368751   \n",
              "248  13100.0  Asmita Sood's favourite holiday destinations a...      0.427681   \n",
              "249      0.0  Horoscope Today     December       Check astro...      0.368514   \n",
              "\n",
              "     Polarity  Compound  Negative  Neutral  Positive  \n",
              "0    0.037977   -1.0000     0.206    0.715     0.079  \n",
              "1    0.039680   -0.9999     0.164    0.754     0.082  \n",
              "2    0.029115   -0.9998     0.135    0.797     0.068  \n",
              "3    0.047456   -0.9999     0.179    0.733     0.088  \n",
              "4    0.036077   -0.9999     0.157    0.753     0.091  \n",
              "..        ...       ...       ...      ...       ...  \n",
              "245  0.052291   -0.9999     0.168    0.743     0.089  \n",
              "246  0.072333   -0.9996     0.128    0.776     0.095  \n",
              "247  0.039336   -0.9999     0.145    0.767     0.089  \n",
              "248  0.067088   -0.9997     0.124    0.793     0.083  \n",
              "249  0.046831   -0.9998     0.132    0.784     0.084  \n",
              "\n",
              "[250 rows x 13 columns]"
            ],
            "text/html": [
              "\n",
              "  <div id=\"df-bac23874-6a37-405a-8d5c-5c1ccbd8a346\">\n",
              "    <div class=\"colab-df-container\">\n",
              "      <div>\n",
              "<style scoped>\n",
              "    .dataframe tbody tr th:only-of-type {\n",
              "        vertical-align: middle;\n",
              "    }\n",
              "\n",
              "    .dataframe tbody tr th {\n",
              "        vertical-align: top;\n",
              "    }\n",
              "\n",
              "    .dataframe thead th {\n",
              "        text-align: right;\n",
              "    }\n",
              "</style>\n",
              "<table border=\"1\" class=\"dataframe\">\n",
              "  <thead>\n",
              "    <tr style=\"text-align: right;\">\n",
              "      <th></th>\n",
              "      <th>Date</th>\n",
              "      <th>Open</th>\n",
              "      <th>High</th>\n",
              "      <th>Low</th>\n",
              "      <th>Close</th>\n",
              "      <th>Volume</th>\n",
              "      <th>News</th>\n",
              "      <th>Subjectivity</th>\n",
              "      <th>Polarity</th>\n",
              "      <th>Compound</th>\n",
              "      <th>Negative</th>\n",
              "      <th>Neutral</th>\n",
              "      <th>Positive</th>\n",
              "    </tr>\n",
              "  </thead>\n",
              "  <tbody>\n",
              "    <tr>\n",
              "      <th>0</th>\n",
              "      <td>2019-12-17</td>\n",
              "      <td>41052.359375</td>\n",
              "      <td>41401.648438</td>\n",
              "      <td>41005.179688</td>\n",
              "      <td>41352.171875</td>\n",
              "      <td>19000.0</td>\n",
              "      <td>After Jagannath Temple  Puri beach devpt plan ...</td>\n",
              "      <td>0.356256</td>\n",
              "      <td>0.037977</td>\n",
              "      <td>-1.0000</td>\n",
              "      <td>0.206</td>\n",
              "      <td>0.715</td>\n",
              "      <td>0.079</td>\n",
              "    </tr>\n",
              "    <tr>\n",
              "      <th>1</th>\n",
              "      <td>2019-12-18</td>\n",
              "      <td>41442.750000</td>\n",
              "      <td>41614.769531</td>\n",
              "      <td>41358.468750</td>\n",
              "      <td>41558.570313</td>\n",
              "      <td>24300.0</td>\n",
              "      <td>What is Citizenship  Amendment  Bill       All...</td>\n",
              "      <td>0.396291</td>\n",
              "      <td>0.039680</td>\n",
              "      <td>-0.9999</td>\n",
              "      <td>0.164</td>\n",
              "      <td>0.754</td>\n",
              "      <td>0.082</td>\n",
              "    </tr>\n",
              "    <tr>\n",
              "      <th>2</th>\n",
              "      <td>2019-12-19</td>\n",
              "      <td>41571.820313</td>\n",
              "      <td>41719.289063</td>\n",
              "      <td>41456.398438</td>\n",
              "      <td>41673.921875</td>\n",
              "      <td>33300.0</td>\n",
              "      <td>Only     of CCA covered after revamp of canals...</td>\n",
              "      <td>0.371783</td>\n",
              "      <td>0.029115</td>\n",
              "      <td>-0.9998</td>\n",
              "      <td>0.135</td>\n",
              "      <td>0.797</td>\n",
              "      <td>0.068</td>\n",
              "    </tr>\n",
              "    <tr>\n",
              "      <th>3</th>\n",
              "      <td>2019-12-20</td>\n",
              "      <td>41746.199219</td>\n",
              "      <td>41809.960938</td>\n",
              "      <td>41636.109375</td>\n",
              "      <td>41681.539063</td>\n",
              "      <td>33600.0</td>\n",
              "      <td>I'm done playing the good girl  I want to be a...</td>\n",
              "      <td>0.366210</td>\n",
              "      <td>0.047456</td>\n",
              "      <td>-0.9999</td>\n",
              "      <td>0.179</td>\n",
              "      <td>0.733</td>\n",
              "      <td>0.088</td>\n",
              "    </tr>\n",
              "    <tr>\n",
              "      <th>4</th>\n",
              "      <td>2019-12-23</td>\n",
              "      <td>41548.261719</td>\n",
              "      <td>41701.621094</td>\n",
              "      <td>41474.609375</td>\n",
              "      <td>41642.660156</td>\n",
              "      <td>6200.0</td>\n",
              "      <td>Weekly Horoscope  December        Check predic...</td>\n",
              "      <td>0.393635</td>\n",
              "      <td>0.036077</td>\n",
              "      <td>-0.9999</td>\n",
              "      <td>0.157</td>\n",
              "      <td>0.753</td>\n",
              "      <td>0.091</td>\n",
              "    </tr>\n",
              "    <tr>\n",
              "      <th>...</th>\n",
              "      <td>...</td>\n",
              "      <td>...</td>\n",
              "      <td>...</td>\n",
              "      <td>...</td>\n",
              "      <td>...</td>\n",
              "      <td>...</td>\n",
              "      <td>...</td>\n",
              "      <td>...</td>\n",
              "      <td>...</td>\n",
              "      <td>...</td>\n",
              "      <td>...</td>\n",
              "      <td>...</td>\n",
              "      <td>...</td>\n",
              "    </tr>\n",
              "    <tr>\n",
              "      <th>245</th>\n",
              "      <td>2020-12-11</td>\n",
              "      <td>46060.320313</td>\n",
              "      <td>46309.628906</td>\n",
              "      <td>45706.218750</td>\n",
              "      <td>46099.011719</td>\n",
              "      <td>26300.0</td>\n",
              "      <td>Ways to get you in the mood for sex when you'r...</td>\n",
              "      <td>0.374037</td>\n",
              "      <td>0.052291</td>\n",
              "      <td>-0.9999</td>\n",
              "      <td>0.168</td>\n",
              "      <td>0.743</td>\n",
              "      <td>0.089</td>\n",
              "    </tr>\n",
              "    <tr>\n",
              "      <th>246</th>\n",
              "      <td>2020-12-14</td>\n",
              "      <td>46284.699219</td>\n",
              "      <td>46373.339844</td>\n",
              "      <td>45951.531250</td>\n",
              "      <td>46253.460938</td>\n",
              "      <td>18400.0</td>\n",
              "      <td>No threat from Covid claims to balance sheets ...</td>\n",
              "      <td>0.382335</td>\n",
              "      <td>0.072333</td>\n",
              "      <td>-0.9996</td>\n",
              "      <td>0.128</td>\n",
              "      <td>0.776</td>\n",
              "      <td>0.095</td>\n",
              "    </tr>\n",
              "    <tr>\n",
              "      <th>247</th>\n",
              "      <td>2020-12-15</td>\n",
              "      <td>46287.390625</td>\n",
              "      <td>46350.300781</td>\n",
              "      <td>45841.671875</td>\n",
              "      <td>46263.171875</td>\n",
              "      <td>16400.0</td>\n",
              "      <td>RT PCR tests in a day  only   found  ve ...</td>\n",
              "      <td>0.368751</td>\n",
              "      <td>0.039336</td>\n",
              "      <td>-0.9999</td>\n",
              "      <td>0.145</td>\n",
              "      <td>0.767</td>\n",
              "      <td>0.089</td>\n",
              "    </tr>\n",
              "    <tr>\n",
              "      <th>248</th>\n",
              "      <td>2020-12-16</td>\n",
              "      <td>46573.308594</td>\n",
              "      <td>46704.968750</td>\n",
              "      <td>46402.199219</td>\n",
              "      <td>46666.460938</td>\n",
              "      <td>13100.0</td>\n",
              "      <td>Asmita Sood's favourite holiday destinations a...</td>\n",
              "      <td>0.427681</td>\n",
              "      <td>0.067088</td>\n",
              "      <td>-0.9997</td>\n",
              "      <td>0.124</td>\n",
              "      <td>0.793</td>\n",
              "      <td>0.083</td>\n",
              "    </tr>\n",
              "    <tr>\n",
              "      <th>249</th>\n",
              "      <td>2020-12-17</td>\n",
              "      <td>46774.320313</td>\n",
              "      <td>46992.570313</td>\n",
              "      <td>46627.601563</td>\n",
              "      <td>46890.339844</td>\n",
              "      <td>0.0</td>\n",
              "      <td>Horoscope Today     December       Check astro...</td>\n",
              "      <td>0.368514</td>\n",
              "      <td>0.046831</td>\n",
              "      <td>-0.9998</td>\n",
              "      <td>0.132</td>\n",
              "      <td>0.784</td>\n",
              "      <td>0.084</td>\n",
              "    </tr>\n",
              "  </tbody>\n",
              "</table>\n",
              "<p>250 rows × 13 columns</p>\n",
              "</div>\n",
              "      <button class=\"colab-df-convert\" onclick=\"convertToInteractive('df-bac23874-6a37-405a-8d5c-5c1ccbd8a346')\"\n",
              "              title=\"Convert this dataframe to an interactive table.\"\n",
              "              style=\"display:none;\">\n",
              "        \n",
              "  <svg xmlns=\"http://www.w3.org/2000/svg\" height=\"24px\"viewBox=\"0 0 24 24\"\n",
              "       width=\"24px\">\n",
              "    <path d=\"M0 0h24v24H0V0z\" fill=\"none\"/>\n",
              "    <path d=\"M18.56 5.44l.94 2.06.94-2.06 2.06-.94-2.06-.94-.94-2.06-.94 2.06-2.06.94zm-11 1L8.5 8.5l.94-2.06 2.06-.94-2.06-.94L8.5 2.5l-.94 2.06-2.06.94zm10 10l.94 2.06.94-2.06 2.06-.94-2.06-.94-.94-2.06-.94 2.06-2.06.94z\"/><path d=\"M17.41 7.96l-1.37-1.37c-.4-.4-.92-.59-1.43-.59-.52 0-1.04.2-1.43.59L10.3 9.45l-7.72 7.72c-.78.78-.78 2.05 0 2.83L4 21.41c.39.39.9.59 1.41.59.51 0 1.02-.2 1.41-.59l7.78-7.78 2.81-2.81c.8-.78.8-2.07 0-2.86zM5.41 20L4 18.59l7.72-7.72 1.47 1.35L5.41 20z\"/>\n",
              "  </svg>\n",
              "      </button>\n",
              "      \n",
              "  <style>\n",
              "    .colab-df-container {\n",
              "      display:flex;\n",
              "      flex-wrap:wrap;\n",
              "      gap: 12px;\n",
              "    }\n",
              "\n",
              "    .colab-df-convert {\n",
              "      background-color: #E8F0FE;\n",
              "      border: none;\n",
              "      border-radius: 50%;\n",
              "      cursor: pointer;\n",
              "      display: none;\n",
              "      fill: #1967D2;\n",
              "      height: 32px;\n",
              "      padding: 0 0 0 0;\n",
              "      width: 32px;\n",
              "    }\n",
              "\n",
              "    .colab-df-convert:hover {\n",
              "      background-color: #E2EBFA;\n",
              "      box-shadow: 0px 1px 2px rgba(60, 64, 67, 0.3), 0px 1px 3px 1px rgba(60, 64, 67, 0.15);\n",
              "      fill: #174EA6;\n",
              "    }\n",
              "\n",
              "    [theme=dark] .colab-df-convert {\n",
              "      background-color: #3B4455;\n",
              "      fill: #D2E3FC;\n",
              "    }\n",
              "\n",
              "    [theme=dark] .colab-df-convert:hover {\n",
              "      background-color: #434B5C;\n",
              "      box-shadow: 0px 1px 3px 1px rgba(0, 0, 0, 0.15);\n",
              "      filter: drop-shadow(0px 1px 2px rgba(0, 0, 0, 0.3));\n",
              "      fill: #FFFFFF;\n",
              "    }\n",
              "  </style>\n",
              "\n",
              "      <script>\n",
              "        const buttonEl =\n",
              "          document.querySelector('#df-bac23874-6a37-405a-8d5c-5c1ccbd8a346 button.colab-df-convert');\n",
              "        buttonEl.style.display =\n",
              "          google.colab.kernel.accessAllowed ? 'block' : 'none';\n",
              "\n",
              "        async function convertToInteractive(key) {\n",
              "          const element = document.querySelector('#df-bac23874-6a37-405a-8d5c-5c1ccbd8a346');\n",
              "          const dataTable =\n",
              "            await google.colab.kernel.invokeFunction('convertToInteractive',\n",
              "                                                     [key], {});\n",
              "          if (!dataTable) return;\n",
              "\n",
              "          const docLinkHtml = 'Like what you see? Visit the ' +\n",
              "            '<a target=\"_blank\" href=https://colab.research.google.com/notebooks/data_table.ipynb>data table notebook</a>'\n",
              "            + ' to learn more about interactive tables.';\n",
              "          element.innerHTML = '';\n",
              "          dataTable['output_type'] = 'display_data';\n",
              "          await google.colab.output.renderOutput(dataTable, element);\n",
              "          const docLink = document.createElement('div');\n",
              "          docLink.innerHTML = docLinkHtml;\n",
              "          element.appendChild(docLink);\n",
              "        }\n",
              "      </script>\n",
              "    </div>\n",
              "  </div>\n",
              "  "
            ]
          },
          "metadata": {},
          "execution_count": 86
        }
      ]
    },
    {
      "cell_type": "code",
      "source": [
        "# Create Dataset for Model Training \n",
        "dfmerge1 = df_merge[['Close','Subjectivity', 'Polarity', 'Compound', 'Negative', 'Neutral', 'Positive']]\n",
        "dfmerge1"
      ],
      "metadata": {
        "colab": {
          "base_uri": "https://localhost:8080/",
          "height": 424
        },
        "id": "EeMxSX8_3xJj",
        "outputId": "3f22f6a7-97ff-46df-de58-f3a11beee0af"
      },
      "execution_count": 87,
      "outputs": [
        {
          "output_type": "execute_result",
          "data": {
            "text/plain": [
              "            Close  Subjectivity  Polarity  Compound  Negative  Neutral  \\\n",
              "0    41352.171875      0.356256  0.037977   -1.0000     0.206    0.715   \n",
              "1    41558.570313      0.396291  0.039680   -0.9999     0.164    0.754   \n",
              "2    41673.921875      0.371783  0.029115   -0.9998     0.135    0.797   \n",
              "3    41681.539063      0.366210  0.047456   -0.9999     0.179    0.733   \n",
              "4    41642.660156      0.393635  0.036077   -0.9999     0.157    0.753   \n",
              "..            ...           ...       ...       ...       ...      ...   \n",
              "245  46099.011719      0.374037  0.052291   -0.9999     0.168    0.743   \n",
              "246  46253.460938      0.382335  0.072333   -0.9996     0.128    0.776   \n",
              "247  46263.171875      0.368751  0.039336   -0.9999     0.145    0.767   \n",
              "248  46666.460938      0.427681  0.067088   -0.9997     0.124    0.793   \n",
              "249  46890.339844      0.368514  0.046831   -0.9998     0.132    0.784   \n",
              "\n",
              "     Positive  \n",
              "0       0.079  \n",
              "1       0.082  \n",
              "2       0.068  \n",
              "3       0.088  \n",
              "4       0.091  \n",
              "..        ...  \n",
              "245     0.089  \n",
              "246     0.095  \n",
              "247     0.089  \n",
              "248     0.083  \n",
              "249     0.084  \n",
              "\n",
              "[250 rows x 7 columns]"
            ],
            "text/html": [
              "\n",
              "  <div id=\"df-33c35f5c-1e27-4bc6-b4c5-926833e38680\">\n",
              "    <div class=\"colab-df-container\">\n",
              "      <div>\n",
              "<style scoped>\n",
              "    .dataframe tbody tr th:only-of-type {\n",
              "        vertical-align: middle;\n",
              "    }\n",
              "\n",
              "    .dataframe tbody tr th {\n",
              "        vertical-align: top;\n",
              "    }\n",
              "\n",
              "    .dataframe thead th {\n",
              "        text-align: right;\n",
              "    }\n",
              "</style>\n",
              "<table border=\"1\" class=\"dataframe\">\n",
              "  <thead>\n",
              "    <tr style=\"text-align: right;\">\n",
              "      <th></th>\n",
              "      <th>Close</th>\n",
              "      <th>Subjectivity</th>\n",
              "      <th>Polarity</th>\n",
              "      <th>Compound</th>\n",
              "      <th>Negative</th>\n",
              "      <th>Neutral</th>\n",
              "      <th>Positive</th>\n",
              "    </tr>\n",
              "  </thead>\n",
              "  <tbody>\n",
              "    <tr>\n",
              "      <th>0</th>\n",
              "      <td>41352.171875</td>\n",
              "      <td>0.356256</td>\n",
              "      <td>0.037977</td>\n",
              "      <td>-1.0000</td>\n",
              "      <td>0.206</td>\n",
              "      <td>0.715</td>\n",
              "      <td>0.079</td>\n",
              "    </tr>\n",
              "    <tr>\n",
              "      <th>1</th>\n",
              "      <td>41558.570313</td>\n",
              "      <td>0.396291</td>\n",
              "      <td>0.039680</td>\n",
              "      <td>-0.9999</td>\n",
              "      <td>0.164</td>\n",
              "      <td>0.754</td>\n",
              "      <td>0.082</td>\n",
              "    </tr>\n",
              "    <tr>\n",
              "      <th>2</th>\n",
              "      <td>41673.921875</td>\n",
              "      <td>0.371783</td>\n",
              "      <td>0.029115</td>\n",
              "      <td>-0.9998</td>\n",
              "      <td>0.135</td>\n",
              "      <td>0.797</td>\n",
              "      <td>0.068</td>\n",
              "    </tr>\n",
              "    <tr>\n",
              "      <th>3</th>\n",
              "      <td>41681.539063</td>\n",
              "      <td>0.366210</td>\n",
              "      <td>0.047456</td>\n",
              "      <td>-0.9999</td>\n",
              "      <td>0.179</td>\n",
              "      <td>0.733</td>\n",
              "      <td>0.088</td>\n",
              "    </tr>\n",
              "    <tr>\n",
              "      <th>4</th>\n",
              "      <td>41642.660156</td>\n",
              "      <td>0.393635</td>\n",
              "      <td>0.036077</td>\n",
              "      <td>-0.9999</td>\n",
              "      <td>0.157</td>\n",
              "      <td>0.753</td>\n",
              "      <td>0.091</td>\n",
              "    </tr>\n",
              "    <tr>\n",
              "      <th>...</th>\n",
              "      <td>...</td>\n",
              "      <td>...</td>\n",
              "      <td>...</td>\n",
              "      <td>...</td>\n",
              "      <td>...</td>\n",
              "      <td>...</td>\n",
              "      <td>...</td>\n",
              "    </tr>\n",
              "    <tr>\n",
              "      <th>245</th>\n",
              "      <td>46099.011719</td>\n",
              "      <td>0.374037</td>\n",
              "      <td>0.052291</td>\n",
              "      <td>-0.9999</td>\n",
              "      <td>0.168</td>\n",
              "      <td>0.743</td>\n",
              "      <td>0.089</td>\n",
              "    </tr>\n",
              "    <tr>\n",
              "      <th>246</th>\n",
              "      <td>46253.460938</td>\n",
              "      <td>0.382335</td>\n",
              "      <td>0.072333</td>\n",
              "      <td>-0.9996</td>\n",
              "      <td>0.128</td>\n",
              "      <td>0.776</td>\n",
              "      <td>0.095</td>\n",
              "    </tr>\n",
              "    <tr>\n",
              "      <th>247</th>\n",
              "      <td>46263.171875</td>\n",
              "      <td>0.368751</td>\n",
              "      <td>0.039336</td>\n",
              "      <td>-0.9999</td>\n",
              "      <td>0.145</td>\n",
              "      <td>0.767</td>\n",
              "      <td>0.089</td>\n",
              "    </tr>\n",
              "    <tr>\n",
              "      <th>248</th>\n",
              "      <td>46666.460938</td>\n",
              "      <td>0.427681</td>\n",
              "      <td>0.067088</td>\n",
              "      <td>-0.9997</td>\n",
              "      <td>0.124</td>\n",
              "      <td>0.793</td>\n",
              "      <td>0.083</td>\n",
              "    </tr>\n",
              "    <tr>\n",
              "      <th>249</th>\n",
              "      <td>46890.339844</td>\n",
              "      <td>0.368514</td>\n",
              "      <td>0.046831</td>\n",
              "      <td>-0.9998</td>\n",
              "      <td>0.132</td>\n",
              "      <td>0.784</td>\n",
              "      <td>0.084</td>\n",
              "    </tr>\n",
              "  </tbody>\n",
              "</table>\n",
              "<p>250 rows × 7 columns</p>\n",
              "</div>\n",
              "      <button class=\"colab-df-convert\" onclick=\"convertToInteractive('df-33c35f5c-1e27-4bc6-b4c5-926833e38680')\"\n",
              "              title=\"Convert this dataframe to an interactive table.\"\n",
              "              style=\"display:none;\">\n",
              "        \n",
              "  <svg xmlns=\"http://www.w3.org/2000/svg\" height=\"24px\"viewBox=\"0 0 24 24\"\n",
              "       width=\"24px\">\n",
              "    <path d=\"M0 0h24v24H0V0z\" fill=\"none\"/>\n",
              "    <path d=\"M18.56 5.44l.94 2.06.94-2.06 2.06-.94-2.06-.94-.94-2.06-.94 2.06-2.06.94zm-11 1L8.5 8.5l.94-2.06 2.06-.94-2.06-.94L8.5 2.5l-.94 2.06-2.06.94zm10 10l.94 2.06.94-2.06 2.06-.94-2.06-.94-.94-2.06-.94 2.06-2.06.94z\"/><path d=\"M17.41 7.96l-1.37-1.37c-.4-.4-.92-.59-1.43-.59-.52 0-1.04.2-1.43.59L10.3 9.45l-7.72 7.72c-.78.78-.78 2.05 0 2.83L4 21.41c.39.39.9.59 1.41.59.51 0 1.02-.2 1.41-.59l7.78-7.78 2.81-2.81c.8-.78.8-2.07 0-2.86zM5.41 20L4 18.59l7.72-7.72 1.47 1.35L5.41 20z\"/>\n",
              "  </svg>\n",
              "      </button>\n",
              "      \n",
              "  <style>\n",
              "    .colab-df-container {\n",
              "      display:flex;\n",
              "      flex-wrap:wrap;\n",
              "      gap: 12px;\n",
              "    }\n",
              "\n",
              "    .colab-df-convert {\n",
              "      background-color: #E8F0FE;\n",
              "      border: none;\n",
              "      border-radius: 50%;\n",
              "      cursor: pointer;\n",
              "      display: none;\n",
              "      fill: #1967D2;\n",
              "      height: 32px;\n",
              "      padding: 0 0 0 0;\n",
              "      width: 32px;\n",
              "    }\n",
              "\n",
              "    .colab-df-convert:hover {\n",
              "      background-color: #E2EBFA;\n",
              "      box-shadow: 0px 1px 2px rgba(60, 64, 67, 0.3), 0px 1px 3px 1px rgba(60, 64, 67, 0.15);\n",
              "      fill: #174EA6;\n",
              "    }\n",
              "\n",
              "    [theme=dark] .colab-df-convert {\n",
              "      background-color: #3B4455;\n",
              "      fill: #D2E3FC;\n",
              "    }\n",
              "\n",
              "    [theme=dark] .colab-df-convert:hover {\n",
              "      background-color: #434B5C;\n",
              "      box-shadow: 0px 1px 3px 1px rgba(0, 0, 0, 0.15);\n",
              "      filter: drop-shadow(0px 1px 2px rgba(0, 0, 0, 0.3));\n",
              "      fill: #FFFFFF;\n",
              "    }\n",
              "  </style>\n",
              "\n",
              "      <script>\n",
              "        const buttonEl =\n",
              "          document.querySelector('#df-33c35f5c-1e27-4bc6-b4c5-926833e38680 button.colab-df-convert');\n",
              "        buttonEl.style.display =\n",
              "          google.colab.kernel.accessAllowed ? 'block' : 'none';\n",
              "\n",
              "        async function convertToInteractive(key) {\n",
              "          const element = document.querySelector('#df-33c35f5c-1e27-4bc6-b4c5-926833e38680');\n",
              "          const dataTable =\n",
              "            await google.colab.kernel.invokeFunction('convertToInteractive',\n",
              "                                                     [key], {});\n",
              "          if (!dataTable) return;\n",
              "\n",
              "          const docLinkHtml = 'Like what you see? Visit the ' +\n",
              "            '<a target=\"_blank\" href=https://colab.research.google.com/notebooks/data_table.ipynb>data table notebook</a>'\n",
              "            + ' to learn more about interactive tables.';\n",
              "          element.innerHTML = '';\n",
              "          dataTable['output_type'] = 'display_data';\n",
              "          await google.colab.output.renderOutput(dataTable, element);\n",
              "          const docLink = document.createElement('div');\n",
              "          docLink.innerHTML = docLinkHtml;\n",
              "          element.appendChild(docLink);\n",
              "        }\n",
              "      </script>\n",
              "    </div>\n",
              "  </div>\n",
              "  "
            ]
          },
          "metadata": {},
          "execution_count": 87
        }
      ]
    },
    {
      "cell_type": "markdown",
      "source": [
        "## Normalize the data "
      ],
      "metadata": {
        "id": "8xyoJLJ9Dznf"
      }
    },
    {
      "cell_type": "code",
      "source": [
        "#Normalize Data"
      ],
      "metadata": {
        "id": "ZaJ_35r34B2A"
      },
      "execution_count": 88,
      "outputs": []
    },
    {
      "cell_type": "code",
      "source": [
        "scaler = MinMaxScaler()\n",
        "\n",
        "df = pd.DataFrame(scaler.fit_transform(dfmerge1))\n",
        "df.columns = dfmerge1.columns\n",
        "df.index = dfmerge1.index\n",
        "df.head()"
      ],
      "metadata": {
        "colab": {
          "base_uri": "https://localhost:8080/",
          "height": 206
        },
        "id": "jWqPUqWh4FVQ",
        "outputId": "9e060a5c-5091-4f6f-ad8f-d48e81ee0214"
      },
      "execution_count": 89,
      "outputs": [
        {
          "output_type": "execute_result",
          "data": {
            "text/plain": [
              "      Close  Subjectivity  Polarity  Compound  Negative   Neutral  Positive\n",
              "0  0.735131      0.157604  0.254831   0.00000  0.913386  0.044118  0.296296\n",
              "1  0.745002      0.537627  0.270044   0.00005  0.582677  0.330882  0.333333\n",
              "2  0.750519      0.304990  0.175669   0.00010  0.354331  0.647059  0.160494\n",
              "3  0.750884      0.252084  0.339500   0.00005  0.700787  0.176471  0.407407\n",
              "4  0.749024      0.512408  0.237860   0.00005  0.527559  0.323529  0.444444"
            ],
            "text/html": [
              "\n",
              "  <div id=\"df-ea264132-64d5-452e-b0fd-0d41842290b2\">\n",
              "    <div class=\"colab-df-container\">\n",
              "      <div>\n",
              "<style scoped>\n",
              "    .dataframe tbody tr th:only-of-type {\n",
              "        vertical-align: middle;\n",
              "    }\n",
              "\n",
              "    .dataframe tbody tr th {\n",
              "        vertical-align: top;\n",
              "    }\n",
              "\n",
              "    .dataframe thead th {\n",
              "        text-align: right;\n",
              "    }\n",
              "</style>\n",
              "<table border=\"1\" class=\"dataframe\">\n",
              "  <thead>\n",
              "    <tr style=\"text-align: right;\">\n",
              "      <th></th>\n",
              "      <th>Close</th>\n",
              "      <th>Subjectivity</th>\n",
              "      <th>Polarity</th>\n",
              "      <th>Compound</th>\n",
              "      <th>Negative</th>\n",
              "      <th>Neutral</th>\n",
              "      <th>Positive</th>\n",
              "    </tr>\n",
              "  </thead>\n",
              "  <tbody>\n",
              "    <tr>\n",
              "      <th>0</th>\n",
              "      <td>0.735131</td>\n",
              "      <td>0.157604</td>\n",
              "      <td>0.254831</td>\n",
              "      <td>0.00000</td>\n",
              "      <td>0.913386</td>\n",
              "      <td>0.044118</td>\n",
              "      <td>0.296296</td>\n",
              "    </tr>\n",
              "    <tr>\n",
              "      <th>1</th>\n",
              "      <td>0.745002</td>\n",
              "      <td>0.537627</td>\n",
              "      <td>0.270044</td>\n",
              "      <td>0.00005</td>\n",
              "      <td>0.582677</td>\n",
              "      <td>0.330882</td>\n",
              "      <td>0.333333</td>\n",
              "    </tr>\n",
              "    <tr>\n",
              "      <th>2</th>\n",
              "      <td>0.750519</td>\n",
              "      <td>0.304990</td>\n",
              "      <td>0.175669</td>\n",
              "      <td>0.00010</td>\n",
              "      <td>0.354331</td>\n",
              "      <td>0.647059</td>\n",
              "      <td>0.160494</td>\n",
              "    </tr>\n",
              "    <tr>\n",
              "      <th>3</th>\n",
              "      <td>0.750884</td>\n",
              "      <td>0.252084</td>\n",
              "      <td>0.339500</td>\n",
              "      <td>0.00005</td>\n",
              "      <td>0.700787</td>\n",
              "      <td>0.176471</td>\n",
              "      <td>0.407407</td>\n",
              "    </tr>\n",
              "    <tr>\n",
              "      <th>4</th>\n",
              "      <td>0.749024</td>\n",
              "      <td>0.512408</td>\n",
              "      <td>0.237860</td>\n",
              "      <td>0.00005</td>\n",
              "      <td>0.527559</td>\n",
              "      <td>0.323529</td>\n",
              "      <td>0.444444</td>\n",
              "    </tr>\n",
              "  </tbody>\n",
              "</table>\n",
              "</div>\n",
              "      <button class=\"colab-df-convert\" onclick=\"convertToInteractive('df-ea264132-64d5-452e-b0fd-0d41842290b2')\"\n",
              "              title=\"Convert this dataframe to an interactive table.\"\n",
              "              style=\"display:none;\">\n",
              "        \n",
              "  <svg xmlns=\"http://www.w3.org/2000/svg\" height=\"24px\"viewBox=\"0 0 24 24\"\n",
              "       width=\"24px\">\n",
              "    <path d=\"M0 0h24v24H0V0z\" fill=\"none\"/>\n",
              "    <path d=\"M18.56 5.44l.94 2.06.94-2.06 2.06-.94-2.06-.94-.94-2.06-.94 2.06-2.06.94zm-11 1L8.5 8.5l.94-2.06 2.06-.94-2.06-.94L8.5 2.5l-.94 2.06-2.06.94zm10 10l.94 2.06.94-2.06 2.06-.94-2.06-.94-.94-2.06-.94 2.06-2.06.94z\"/><path d=\"M17.41 7.96l-1.37-1.37c-.4-.4-.92-.59-1.43-.59-.52 0-1.04.2-1.43.59L10.3 9.45l-7.72 7.72c-.78.78-.78 2.05 0 2.83L4 21.41c.39.39.9.59 1.41.59.51 0 1.02-.2 1.41-.59l7.78-7.78 2.81-2.81c.8-.78.8-2.07 0-2.86zM5.41 20L4 18.59l7.72-7.72 1.47 1.35L5.41 20z\"/>\n",
              "  </svg>\n",
              "      </button>\n",
              "      \n",
              "  <style>\n",
              "    .colab-df-container {\n",
              "      display:flex;\n",
              "      flex-wrap:wrap;\n",
              "      gap: 12px;\n",
              "    }\n",
              "\n",
              "    .colab-df-convert {\n",
              "      background-color: #E8F0FE;\n",
              "      border: none;\n",
              "      border-radius: 50%;\n",
              "      cursor: pointer;\n",
              "      display: none;\n",
              "      fill: #1967D2;\n",
              "      height: 32px;\n",
              "      padding: 0 0 0 0;\n",
              "      width: 32px;\n",
              "    }\n",
              "\n",
              "    .colab-df-convert:hover {\n",
              "      background-color: #E2EBFA;\n",
              "      box-shadow: 0px 1px 2px rgba(60, 64, 67, 0.3), 0px 1px 3px 1px rgba(60, 64, 67, 0.15);\n",
              "      fill: #174EA6;\n",
              "    }\n",
              "\n",
              "    [theme=dark] .colab-df-convert {\n",
              "      background-color: #3B4455;\n",
              "      fill: #D2E3FC;\n",
              "    }\n",
              "\n",
              "    [theme=dark] .colab-df-convert:hover {\n",
              "      background-color: #434B5C;\n",
              "      box-shadow: 0px 1px 3px 1px rgba(0, 0, 0, 0.15);\n",
              "      filter: drop-shadow(0px 1px 2px rgba(0, 0, 0, 0.3));\n",
              "      fill: #FFFFFF;\n",
              "    }\n",
              "  </style>\n",
              "\n",
              "      <script>\n",
              "        const buttonEl =\n",
              "          document.querySelector('#df-ea264132-64d5-452e-b0fd-0d41842290b2 button.colab-df-convert');\n",
              "        buttonEl.style.display =\n",
              "          google.colab.kernel.accessAllowed ? 'block' : 'none';\n",
              "\n",
              "        async function convertToInteractive(key) {\n",
              "          const element = document.querySelector('#df-ea264132-64d5-452e-b0fd-0d41842290b2');\n",
              "          const dataTable =\n",
              "            await google.colab.kernel.invokeFunction('convertToInteractive',\n",
              "                                                     [key], {});\n",
              "          if (!dataTable) return;\n",
              "\n",
              "          const docLinkHtml = 'Like what you see? Visit the ' +\n",
              "            '<a target=\"_blank\" href=https://colab.research.google.com/notebooks/data_table.ipynb>data table notebook</a>'\n",
              "            + ' to learn more about interactive tables.';\n",
              "          element.innerHTML = '';\n",
              "          dataTable['output_type'] = 'display_data';\n",
              "          await google.colab.output.renderOutput(dataTable, element);\n",
              "          const docLink = document.createElement('div');\n",
              "          docLink.innerHTML = docLinkHtml;\n",
              "          element.appendChild(docLink);\n",
              "        }\n",
              "      </script>\n",
              "    </div>\n",
              "  </div>\n",
              "  "
            ]
          },
          "metadata": {},
          "execution_count": 89
        }
      ]
    },
    {
      "cell_type": "code",
      "source": [
        "X=df.drop('Close',axis=1)\n",
        "X"
      ],
      "metadata": {
        "colab": {
          "base_uri": "https://localhost:8080/",
          "height": 424
        },
        "id": "ZrjEdrdc4HxM",
        "outputId": "bd6488b1-c32d-43b5-c50c-64a361512da4"
      },
      "execution_count": 90,
      "outputs": [
        {
          "output_type": "execute_result",
          "data": {
            "text/plain": [
              "     Subjectivity  Polarity  Compound  Negative   Neutral  Positive\n",
              "0        0.157604  0.254831  0.000000  0.913386  0.044118  0.296296\n",
              "1        0.537627  0.270044  0.000050  0.582677  0.330882  0.333333\n",
              "2        0.304990  0.175669  0.000100  0.354331  0.647059  0.160494\n",
              "3        0.252084  0.339500  0.000050  0.700787  0.176471  0.407407\n",
              "4        0.512408  0.237860  0.000050  0.527559  0.323529  0.444444\n",
              "..            ...       ...       ...       ...       ...       ...\n",
              "245      0.326385  0.382691  0.000050  0.614173  0.250000  0.419753\n",
              "246      0.405146  0.561721  0.000201  0.299213  0.492647  0.493827\n",
              "247      0.276208  0.266972  0.000050  0.433071  0.426471  0.419753\n",
              "248      0.835584  0.514876  0.000151  0.267717  0.617647  0.345679\n",
              "249      0.273957  0.333917  0.000100  0.330709  0.551471  0.358025\n",
              "\n",
              "[250 rows x 6 columns]"
            ],
            "text/html": [
              "\n",
              "  <div id=\"df-e9eb891a-bbc8-49d6-a83e-89b1cda46fbc\">\n",
              "    <div class=\"colab-df-container\">\n",
              "      <div>\n",
              "<style scoped>\n",
              "    .dataframe tbody tr th:only-of-type {\n",
              "        vertical-align: middle;\n",
              "    }\n",
              "\n",
              "    .dataframe tbody tr th {\n",
              "        vertical-align: top;\n",
              "    }\n",
              "\n",
              "    .dataframe thead th {\n",
              "        text-align: right;\n",
              "    }\n",
              "</style>\n",
              "<table border=\"1\" class=\"dataframe\">\n",
              "  <thead>\n",
              "    <tr style=\"text-align: right;\">\n",
              "      <th></th>\n",
              "      <th>Subjectivity</th>\n",
              "      <th>Polarity</th>\n",
              "      <th>Compound</th>\n",
              "      <th>Negative</th>\n",
              "      <th>Neutral</th>\n",
              "      <th>Positive</th>\n",
              "    </tr>\n",
              "  </thead>\n",
              "  <tbody>\n",
              "    <tr>\n",
              "      <th>0</th>\n",
              "      <td>0.157604</td>\n",
              "      <td>0.254831</td>\n",
              "      <td>0.000000</td>\n",
              "      <td>0.913386</td>\n",
              "      <td>0.044118</td>\n",
              "      <td>0.296296</td>\n",
              "    </tr>\n",
              "    <tr>\n",
              "      <th>1</th>\n",
              "      <td>0.537627</td>\n",
              "      <td>0.270044</td>\n",
              "      <td>0.000050</td>\n",
              "      <td>0.582677</td>\n",
              "      <td>0.330882</td>\n",
              "      <td>0.333333</td>\n",
              "    </tr>\n",
              "    <tr>\n",
              "      <th>2</th>\n",
              "      <td>0.304990</td>\n",
              "      <td>0.175669</td>\n",
              "      <td>0.000100</td>\n",
              "      <td>0.354331</td>\n",
              "      <td>0.647059</td>\n",
              "      <td>0.160494</td>\n",
              "    </tr>\n",
              "    <tr>\n",
              "      <th>3</th>\n",
              "      <td>0.252084</td>\n",
              "      <td>0.339500</td>\n",
              "      <td>0.000050</td>\n",
              "      <td>0.700787</td>\n",
              "      <td>0.176471</td>\n",
              "      <td>0.407407</td>\n",
              "    </tr>\n",
              "    <tr>\n",
              "      <th>4</th>\n",
              "      <td>0.512408</td>\n",
              "      <td>0.237860</td>\n",
              "      <td>0.000050</td>\n",
              "      <td>0.527559</td>\n",
              "      <td>0.323529</td>\n",
              "      <td>0.444444</td>\n",
              "    </tr>\n",
              "    <tr>\n",
              "      <th>...</th>\n",
              "      <td>...</td>\n",
              "      <td>...</td>\n",
              "      <td>...</td>\n",
              "      <td>...</td>\n",
              "      <td>...</td>\n",
              "      <td>...</td>\n",
              "    </tr>\n",
              "    <tr>\n",
              "      <th>245</th>\n",
              "      <td>0.326385</td>\n",
              "      <td>0.382691</td>\n",
              "      <td>0.000050</td>\n",
              "      <td>0.614173</td>\n",
              "      <td>0.250000</td>\n",
              "      <td>0.419753</td>\n",
              "    </tr>\n",
              "    <tr>\n",
              "      <th>246</th>\n",
              "      <td>0.405146</td>\n",
              "      <td>0.561721</td>\n",
              "      <td>0.000201</td>\n",
              "      <td>0.299213</td>\n",
              "      <td>0.492647</td>\n",
              "      <td>0.493827</td>\n",
              "    </tr>\n",
              "    <tr>\n",
              "      <th>247</th>\n",
              "      <td>0.276208</td>\n",
              "      <td>0.266972</td>\n",
              "      <td>0.000050</td>\n",
              "      <td>0.433071</td>\n",
              "      <td>0.426471</td>\n",
              "      <td>0.419753</td>\n",
              "    </tr>\n",
              "    <tr>\n",
              "      <th>248</th>\n",
              "      <td>0.835584</td>\n",
              "      <td>0.514876</td>\n",
              "      <td>0.000151</td>\n",
              "      <td>0.267717</td>\n",
              "      <td>0.617647</td>\n",
              "      <td>0.345679</td>\n",
              "    </tr>\n",
              "    <tr>\n",
              "      <th>249</th>\n",
              "      <td>0.273957</td>\n",
              "      <td>0.333917</td>\n",
              "      <td>0.000100</td>\n",
              "      <td>0.330709</td>\n",
              "      <td>0.551471</td>\n",
              "      <td>0.358025</td>\n",
              "    </tr>\n",
              "  </tbody>\n",
              "</table>\n",
              "<p>250 rows × 6 columns</p>\n",
              "</div>\n",
              "      <button class=\"colab-df-convert\" onclick=\"convertToInteractive('df-e9eb891a-bbc8-49d6-a83e-89b1cda46fbc')\"\n",
              "              title=\"Convert this dataframe to an interactive table.\"\n",
              "              style=\"display:none;\">\n",
              "        \n",
              "  <svg xmlns=\"http://www.w3.org/2000/svg\" height=\"24px\"viewBox=\"0 0 24 24\"\n",
              "       width=\"24px\">\n",
              "    <path d=\"M0 0h24v24H0V0z\" fill=\"none\"/>\n",
              "    <path d=\"M18.56 5.44l.94 2.06.94-2.06 2.06-.94-2.06-.94-.94-2.06-.94 2.06-2.06.94zm-11 1L8.5 8.5l.94-2.06 2.06-.94-2.06-.94L8.5 2.5l-.94 2.06-2.06.94zm10 10l.94 2.06.94-2.06 2.06-.94-2.06-.94-.94-2.06-.94 2.06-2.06.94z\"/><path d=\"M17.41 7.96l-1.37-1.37c-.4-.4-.92-.59-1.43-.59-.52 0-1.04.2-1.43.59L10.3 9.45l-7.72 7.72c-.78.78-.78 2.05 0 2.83L4 21.41c.39.39.9.59 1.41.59.51 0 1.02-.2 1.41-.59l7.78-7.78 2.81-2.81c.8-.78.8-2.07 0-2.86zM5.41 20L4 18.59l7.72-7.72 1.47 1.35L5.41 20z\"/>\n",
              "  </svg>\n",
              "      </button>\n",
              "      \n",
              "  <style>\n",
              "    .colab-df-container {\n",
              "      display:flex;\n",
              "      flex-wrap:wrap;\n",
              "      gap: 12px;\n",
              "    }\n",
              "\n",
              "    .colab-df-convert {\n",
              "      background-color: #E8F0FE;\n",
              "      border: none;\n",
              "      border-radius: 50%;\n",
              "      cursor: pointer;\n",
              "      display: none;\n",
              "      fill: #1967D2;\n",
              "      height: 32px;\n",
              "      padding: 0 0 0 0;\n",
              "      width: 32px;\n",
              "    }\n",
              "\n",
              "    .colab-df-convert:hover {\n",
              "      background-color: #E2EBFA;\n",
              "      box-shadow: 0px 1px 2px rgba(60, 64, 67, 0.3), 0px 1px 3px 1px rgba(60, 64, 67, 0.15);\n",
              "      fill: #174EA6;\n",
              "    }\n",
              "\n",
              "    [theme=dark] .colab-df-convert {\n",
              "      background-color: #3B4455;\n",
              "      fill: #D2E3FC;\n",
              "    }\n",
              "\n",
              "    [theme=dark] .colab-df-convert:hover {\n",
              "      background-color: #434B5C;\n",
              "      box-shadow: 0px 1px 3px 1px rgba(0, 0, 0, 0.15);\n",
              "      filter: drop-shadow(0px 1px 2px rgba(0, 0, 0, 0.3));\n",
              "      fill: #FFFFFF;\n",
              "    }\n",
              "  </style>\n",
              "\n",
              "      <script>\n",
              "        const buttonEl =\n",
              "          document.querySelector('#df-e9eb891a-bbc8-49d6-a83e-89b1cda46fbc button.colab-df-convert');\n",
              "        buttonEl.style.display =\n",
              "          google.colab.kernel.accessAllowed ? 'block' : 'none';\n",
              "\n",
              "        async function convertToInteractive(key) {\n",
              "          const element = document.querySelector('#df-e9eb891a-bbc8-49d6-a83e-89b1cda46fbc');\n",
              "          const dataTable =\n",
              "            await google.colab.kernel.invokeFunction('convertToInteractive',\n",
              "                                                     [key], {});\n",
              "          if (!dataTable) return;\n",
              "\n",
              "          const docLinkHtml = 'Like what you see? Visit the ' +\n",
              "            '<a target=\"_blank\" href=https://colab.research.google.com/notebooks/data_table.ipynb>data table notebook</a>'\n",
              "            + ' to learn more about interactive tables.';\n",
              "          element.innerHTML = '';\n",
              "          dataTable['output_type'] = 'display_data';\n",
              "          await google.colab.output.renderOutput(dataTable, element);\n",
              "          const docLink = document.createElement('div');\n",
              "          docLink.innerHTML = docLinkHtml;\n",
              "          element.appendChild(docLink);\n",
              "        }\n",
              "      </script>\n",
              "    </div>\n",
              "  </div>\n",
              "  "
            ]
          },
          "metadata": {},
          "execution_count": 90
        }
      ]
    },
    {
      "cell_type": "code",
      "source": [
        "Y=df['Close']\n",
        "Y"
      ],
      "metadata": {
        "colab": {
          "base_uri": "https://localhost:8080/"
        },
        "id": "643X2YUD4KVV",
        "outputId": "e22a9e61-4381-4f37-e19a-25714a10b781"
      },
      "execution_count": 91,
      "outputs": [
        {
          "output_type": "execute_result",
          "data": {
            "text/plain": [
              "0      0.735131\n",
              "1      0.745002\n",
              "2      0.750519\n",
              "3      0.750884\n",
              "4      0.749024\n",
              "         ...   \n",
              "245    0.962154\n",
              "246    0.969541\n",
              "247    0.970005\n",
              "248    0.989293\n",
              "249    1.000000\n",
              "Name: Close, Length: 250, dtype: float64"
            ]
          },
          "metadata": {},
          "execution_count": 91
        }
      ]
    },
    {
      "cell_type": "markdown",
      "source": [
        "## Splitting the dataset into training and test set "
      ],
      "metadata": {
        "id": "yQPtml0JEBPB"
      }
    },
    {
      "cell_type": "code",
      "source": [
        "# Split the Dataset into Train & Test Data\n",
        "x_train, x_test, y_train, y_test = train_test_split(X, Y, test_size=0.2, random_state = 0)\n",
        "x_train.shape"
      ],
      "metadata": {
        "colab": {
          "base_uri": "https://localhost:8080/"
        },
        "id": "TxDcyxu94MPB",
        "outputId": "0dfa2c43-95ee-41fc-f3ee-a5dae0ddb700"
      },
      "execution_count": 92,
      "outputs": [
        {
          "output_type": "execute_result",
          "data": {
            "text/plain": [
              "(200, 6)"
            ]
          },
          "metadata": {},
          "execution_count": 92
        }
      ]
    },
    {
      "cell_type": "code",
      "source": [
        "x_train[:10]"
      ],
      "metadata": {
        "colab": {
          "base_uri": "https://localhost:8080/",
          "height": 363
        },
        "id": "LNGeTPTB4TAG",
        "outputId": "44bdbb78-4a93-410b-d98d-c5693969b112"
      },
      "execution_count": 93,
      "outputs": [
        {
          "output_type": "execute_result",
          "data": {
            "text/plain": [
              "     Subjectivity  Polarity  Compound  Negative   Neutral  Positive\n",
              "71       0.352071  0.288092  0.000100  0.401575  0.500000  0.333333\n",
              "160      0.681128  0.572245  0.000050  0.417323  0.500000  0.308642\n",
              "180      0.686480  0.370186  0.000050  0.535433  0.250000  0.543210\n",
              "75       0.502568  0.748241  0.000151  0.322835  0.588235  0.308642\n",
              "59       0.367044  0.196113  0.000000  0.850394  0.073529  0.345679\n",
              "101      0.600065  0.456315  0.000100  0.322835  0.595588  0.296296\n",
              "229      0.592298  0.326265  0.000050  0.559055  0.433824  0.197531\n",
              "18       0.673951  0.602135  0.000000  0.692913  0.227941  0.333333\n",
              "188      0.671094  0.314921  0.000100  0.251969  0.838235  0.000000\n",
              "15       0.307918  0.606835  0.000050  0.496063  0.367647  0.407407"
            ],
            "text/html": [
              "\n",
              "  <div id=\"df-172d7704-6a54-42a2-b383-09069c99bd49\">\n",
              "    <div class=\"colab-df-container\">\n",
              "      <div>\n",
              "<style scoped>\n",
              "    .dataframe tbody tr th:only-of-type {\n",
              "        vertical-align: middle;\n",
              "    }\n",
              "\n",
              "    .dataframe tbody tr th {\n",
              "        vertical-align: top;\n",
              "    }\n",
              "\n",
              "    .dataframe thead th {\n",
              "        text-align: right;\n",
              "    }\n",
              "</style>\n",
              "<table border=\"1\" class=\"dataframe\">\n",
              "  <thead>\n",
              "    <tr style=\"text-align: right;\">\n",
              "      <th></th>\n",
              "      <th>Subjectivity</th>\n",
              "      <th>Polarity</th>\n",
              "      <th>Compound</th>\n",
              "      <th>Negative</th>\n",
              "      <th>Neutral</th>\n",
              "      <th>Positive</th>\n",
              "    </tr>\n",
              "  </thead>\n",
              "  <tbody>\n",
              "    <tr>\n",
              "      <th>71</th>\n",
              "      <td>0.352071</td>\n",
              "      <td>0.288092</td>\n",
              "      <td>0.000100</td>\n",
              "      <td>0.401575</td>\n",
              "      <td>0.500000</td>\n",
              "      <td>0.333333</td>\n",
              "    </tr>\n",
              "    <tr>\n",
              "      <th>160</th>\n",
              "      <td>0.681128</td>\n",
              "      <td>0.572245</td>\n",
              "      <td>0.000050</td>\n",
              "      <td>0.417323</td>\n",
              "      <td>0.500000</td>\n",
              "      <td>0.308642</td>\n",
              "    </tr>\n",
              "    <tr>\n",
              "      <th>180</th>\n",
              "      <td>0.686480</td>\n",
              "      <td>0.370186</td>\n",
              "      <td>0.000050</td>\n",
              "      <td>0.535433</td>\n",
              "      <td>0.250000</td>\n",
              "      <td>0.543210</td>\n",
              "    </tr>\n",
              "    <tr>\n",
              "      <th>75</th>\n",
              "      <td>0.502568</td>\n",
              "      <td>0.748241</td>\n",
              "      <td>0.000151</td>\n",
              "      <td>0.322835</td>\n",
              "      <td>0.588235</td>\n",
              "      <td>0.308642</td>\n",
              "    </tr>\n",
              "    <tr>\n",
              "      <th>59</th>\n",
              "      <td>0.367044</td>\n",
              "      <td>0.196113</td>\n",
              "      <td>0.000000</td>\n",
              "      <td>0.850394</td>\n",
              "      <td>0.073529</td>\n",
              "      <td>0.345679</td>\n",
              "    </tr>\n",
              "    <tr>\n",
              "      <th>101</th>\n",
              "      <td>0.600065</td>\n",
              "      <td>0.456315</td>\n",
              "      <td>0.000100</td>\n",
              "      <td>0.322835</td>\n",
              "      <td>0.595588</td>\n",
              "      <td>0.296296</td>\n",
              "    </tr>\n",
              "    <tr>\n",
              "      <th>229</th>\n",
              "      <td>0.592298</td>\n",
              "      <td>0.326265</td>\n",
              "      <td>0.000050</td>\n",
              "      <td>0.559055</td>\n",
              "      <td>0.433824</td>\n",
              "      <td>0.197531</td>\n",
              "    </tr>\n",
              "    <tr>\n",
              "      <th>18</th>\n",
              "      <td>0.673951</td>\n",
              "      <td>0.602135</td>\n",
              "      <td>0.000000</td>\n",
              "      <td>0.692913</td>\n",
              "      <td>0.227941</td>\n",
              "      <td>0.333333</td>\n",
              "    </tr>\n",
              "    <tr>\n",
              "      <th>188</th>\n",
              "      <td>0.671094</td>\n",
              "      <td>0.314921</td>\n",
              "      <td>0.000100</td>\n",
              "      <td>0.251969</td>\n",
              "      <td>0.838235</td>\n",
              "      <td>0.000000</td>\n",
              "    </tr>\n",
              "    <tr>\n",
              "      <th>15</th>\n",
              "      <td>0.307918</td>\n",
              "      <td>0.606835</td>\n",
              "      <td>0.000050</td>\n",
              "      <td>0.496063</td>\n",
              "      <td>0.367647</td>\n",
              "      <td>0.407407</td>\n",
              "    </tr>\n",
              "  </tbody>\n",
              "</table>\n",
              "</div>\n",
              "      <button class=\"colab-df-convert\" onclick=\"convertToInteractive('df-172d7704-6a54-42a2-b383-09069c99bd49')\"\n",
              "              title=\"Convert this dataframe to an interactive table.\"\n",
              "              style=\"display:none;\">\n",
              "        \n",
              "  <svg xmlns=\"http://www.w3.org/2000/svg\" height=\"24px\"viewBox=\"0 0 24 24\"\n",
              "       width=\"24px\">\n",
              "    <path d=\"M0 0h24v24H0V0z\" fill=\"none\"/>\n",
              "    <path d=\"M18.56 5.44l.94 2.06.94-2.06 2.06-.94-2.06-.94-.94-2.06-.94 2.06-2.06.94zm-11 1L8.5 8.5l.94-2.06 2.06-.94-2.06-.94L8.5 2.5l-.94 2.06-2.06.94zm10 10l.94 2.06.94-2.06 2.06-.94-2.06-.94-.94-2.06-.94 2.06-2.06.94z\"/><path d=\"M17.41 7.96l-1.37-1.37c-.4-.4-.92-.59-1.43-.59-.52 0-1.04.2-1.43.59L10.3 9.45l-7.72 7.72c-.78.78-.78 2.05 0 2.83L4 21.41c.39.39.9.59 1.41.59.51 0 1.02-.2 1.41-.59l7.78-7.78 2.81-2.81c.8-.78.8-2.07 0-2.86zM5.41 20L4 18.59l7.72-7.72 1.47 1.35L5.41 20z\"/>\n",
              "  </svg>\n",
              "      </button>\n",
              "      \n",
              "  <style>\n",
              "    .colab-df-container {\n",
              "      display:flex;\n",
              "      flex-wrap:wrap;\n",
              "      gap: 12px;\n",
              "    }\n",
              "\n",
              "    .colab-df-convert {\n",
              "      background-color: #E8F0FE;\n",
              "      border: none;\n",
              "      border-radius: 50%;\n",
              "      cursor: pointer;\n",
              "      display: none;\n",
              "      fill: #1967D2;\n",
              "      height: 32px;\n",
              "      padding: 0 0 0 0;\n",
              "      width: 32px;\n",
              "    }\n",
              "\n",
              "    .colab-df-convert:hover {\n",
              "      background-color: #E2EBFA;\n",
              "      box-shadow: 0px 1px 2px rgba(60, 64, 67, 0.3), 0px 1px 3px 1px rgba(60, 64, 67, 0.15);\n",
              "      fill: #174EA6;\n",
              "    }\n",
              "\n",
              "    [theme=dark] .colab-df-convert {\n",
              "      background-color: #3B4455;\n",
              "      fill: #D2E3FC;\n",
              "    }\n",
              "\n",
              "    [theme=dark] .colab-df-convert:hover {\n",
              "      background-color: #434B5C;\n",
              "      box-shadow: 0px 1px 3px 1px rgba(0, 0, 0, 0.15);\n",
              "      filter: drop-shadow(0px 1px 2px rgba(0, 0, 0, 0.3));\n",
              "      fill: #FFFFFF;\n",
              "    }\n",
              "  </style>\n",
              "\n",
              "      <script>\n",
              "        const buttonEl =\n",
              "          document.querySelector('#df-172d7704-6a54-42a2-b383-09069c99bd49 button.colab-df-convert');\n",
              "        buttonEl.style.display =\n",
              "          google.colab.kernel.accessAllowed ? 'block' : 'none';\n",
              "\n",
              "        async function convertToInteractive(key) {\n",
              "          const element = document.querySelector('#df-172d7704-6a54-42a2-b383-09069c99bd49');\n",
              "          const dataTable =\n",
              "            await google.colab.kernel.invokeFunction('convertToInteractive',\n",
              "                                                     [key], {});\n",
              "          if (!dataTable) return;\n",
              "\n",
              "          const docLinkHtml = 'Like what you see? Visit the ' +\n",
              "            '<a target=\"_blank\" href=https://colab.research.google.com/notebooks/data_table.ipynb>data table notebook</a>'\n",
              "            + ' to learn more about interactive tables.';\n",
              "          element.innerHTML = '';\n",
              "          dataTable['output_type'] = 'display_data';\n",
              "          await google.colab.output.renderOutput(dataTable, element);\n",
              "          const docLink = document.createElement('div');\n",
              "          docLink.innerHTML = docLinkHtml;\n",
              "          element.appendChild(docLink);\n",
              "        }\n",
              "      </script>\n",
              "    </div>\n",
              "  </div>\n",
              "  "
            ]
          },
          "metadata": {},
          "execution_count": 93
        }
      ]
    },
    {
      "cell_type": "markdown",
      "source": [
        "## Random Forest Regressor"
      ],
      "metadata": {
        "id": "mIGTjNhDELRr"
      }
    },
    {
      "cell_type": "code",
      "source": [
        "# RandomForestRegressor Model\n",
        "rf = RandomForestRegressor()\n",
        "rf.fit(x_train, y_train)\n",
        "prediction=rf.predict(x_test)"
      ],
      "metadata": {
        "id": "TkjO9a6a4V1u"
      },
      "execution_count": 94,
      "outputs": []
    },
    {
      "cell_type": "code",
      "source": [
        "print(prediction[:10])\n",
        "print(y_test[:10])\n",
        "print('Mean Squared error: ',mean_squared_error(prediction,y_test))"
      ],
      "metadata": {
        "colab": {
          "base_uri": "https://localhost:8080/"
        },
        "id": "cewpuN-T4azI",
        "outputId": "f2b2ed4b-52a3-4d51-b03c-93e5590bf533"
      },
      "execution_count": 95,
      "outputs": [
        {
          "output_type": "stream",
          "name": "stdout",
          "text": [
            "[0.49605032 0.43526709 0.57822978 0.59773348 0.48138062 0.38329356\n",
            " 0.53540621 0.45788306 0.4247572  0.55785374]\n",
            "225    0.842333\n",
            "122    0.393456\n",
            "92     0.272824\n",
            "157    0.576027\n",
            "154    0.524095\n",
            "161    0.592488\n",
            "198    0.621378\n",
            "83     0.258180\n",
            "63     0.110334\n",
            "155    0.559884\n",
            "Name: Close, dtype: float64\n",
            "Mean Squared error:  0.03393866761689965\n"
          ]
        }
      ]
    },
    {
      "cell_type": "markdown",
      "source": [
        "## Decision Tree Regressor "
      ],
      "metadata": {
        "id": "irT8EJOOEPXZ"
      }
    },
    {
      "cell_type": "code",
      "source": [
        "# DescisionTreeRegressor Model\n",
        "dtr = DecisionTreeRegressor()\n",
        "dtr.fit(x_train, y_train)\n",
        "predictions = dtr.predict(x_test)"
      ],
      "metadata": {
        "id": "UWyFiIPS4fzI"
      },
      "execution_count": 96,
      "outputs": []
    },
    {
      "cell_type": "code",
      "source": [
        "print(predictions[:10])\n",
        "print(y_test[:10])\n",
        "print('Mean Squared error: ',mean_squared_error(predictions,y_test))"
      ],
      "metadata": {
        "colab": {
          "base_uri": "https://localhost:8080/"
        },
        "id": "8ojx9Q1L4lBA",
        "outputId": "ced71a01-1ca1-4cac-d587-a37dc6e82519"
      },
      "execution_count": 97,
      "outputs": [
        {
          "output_type": "stream",
          "name": "stdout",
          "text": [
            "[0.48163568 0.74050865 0.61567981 0.96954059 0.19541591 0.20158351\n",
            " 0.03313338 0.40122904 0.25868307 0.84263412]\n",
            "225    0.842333\n",
            "122    0.393456\n",
            "92     0.272824\n",
            "157    0.576027\n",
            "154    0.524095\n",
            "161    0.592488\n",
            "198    0.621378\n",
            "83     0.258180\n",
            "63     0.110334\n",
            "155    0.559884\n",
            "Name: Close, dtype: float64\n",
            "Mean Squared error:  0.0703356730180142\n"
          ]
        }
      ]
    },
    {
      "cell_type": "markdown",
      "source": [
        "## AdaBoostRegressor Model "
      ],
      "metadata": {
        "id": "1-JoZVC7ET2u"
      }
    },
    {
      "cell_type": "code",
      "source": [
        "# AdaBoostRegressor Model"
      ],
      "metadata": {
        "id": "GI6AMyba4pVm"
      },
      "execution_count": 98,
      "outputs": []
    },
    {
      "cell_type": "code",
      "source": [
        "adb = AdaBoostRegressor()\n",
        "adb.fit(x_train, y_train)"
      ],
      "metadata": {
        "colab": {
          "base_uri": "https://localhost:8080/"
        },
        "id": "KuwiUdoY4taH",
        "outputId": "801029aa-cee0-4bcf-f431-b115b75c931e"
      },
      "execution_count": 99,
      "outputs": [
        {
          "output_type": "execute_result",
          "data": {
            "text/plain": [
              "AdaBoostRegressor()"
            ]
          },
          "metadata": {},
          "execution_count": 99
        }
      ]
    },
    {
      "cell_type": "code",
      "source": [
        "predictions = adb.predict(x_test)\n",
        "print(mean_squared_error(predictions, y_test))"
      ],
      "metadata": {
        "colab": {
          "base_uri": "https://localhost:8080/"
        },
        "id": "qSV6KVdz4u29",
        "outputId": "8781dd1a-d3fd-4249-be53-d65e66d01d8e"
      },
      "execution_count": 100,
      "outputs": [
        {
          "output_type": "stream",
          "name": "stdout",
          "text": [
            "0.03662674736218215\n"
          ]
        }
      ]
    },
    {
      "cell_type": "markdown",
      "source": [
        "## LightGBM LGBMRegressor Model"
      ],
      "metadata": {
        "id": "gD7pb37-Eabn"
      }
    },
    {
      "cell_type": "code",
      "source": [
        "# LigtGBM LGBMRegressor Model\n",
        "gbm = lightgbm.LGBMRegressor()\n",
        "gbm.fit(x_train, y_train)"
      ],
      "metadata": {
        "colab": {
          "base_uri": "https://localhost:8080/"
        },
        "id": "pbo8Rx3q4xQT",
        "outputId": "439b75a6-4baf-46f0-e894-26c3d70e2cf2"
      },
      "execution_count": 101,
      "outputs": [
        {
          "output_type": "execute_result",
          "data": {
            "text/plain": [
              "LGBMRegressor()"
            ]
          },
          "metadata": {},
          "execution_count": 101
        }
      ]
    },
    {
      "cell_type": "code",
      "source": [
        "predictions = gbm.predict(x_test)\n",
        "print(mean_squared_error(predictions, y_test))"
      ],
      "metadata": {
        "colab": {
          "base_uri": "https://localhost:8080/"
        },
        "id": "KVjSP01J4512",
        "outputId": "429b6d19-ed6b-4144-a091-4c91bf52e565"
      },
      "execution_count": 102,
      "outputs": [
        {
          "output_type": "stream",
          "name": "stdout",
          "text": [
            "0.042103850423464165\n"
          ]
        }
      ]
    },
    {
      "cell_type": "markdown",
      "source": [
        "## XGBRegressor Model"
      ],
      "metadata": {
        "id": "HpIjnVihHlgR"
      }
    },
    {
      "cell_type": "code",
      "source": [
        "# XGBRegressor Model\n",
        "xgb = xgboost.XGBRegressor()\n",
        "xgb.fit(x_train, y_train)"
      ],
      "metadata": {
        "colab": {
          "base_uri": "https://localhost:8080/"
        },
        "id": "aZ7tmLmF49Zh",
        "outputId": "4f45ae6e-12e8-4fdc-b0cd-84fb19e11f66"
      },
      "execution_count": 103,
      "outputs": [
        {
          "output_type": "stream",
          "name": "stdout",
          "text": [
            "[16:35:17] WARNING: /workspace/src/objective/regression_obj.cu:152: reg:linear is now deprecated in favor of reg:squarederror.\n"
          ]
        },
        {
          "output_type": "execute_result",
          "data": {
            "text/plain": [
              "XGBRegressor()"
            ]
          },
          "metadata": {},
          "execution_count": 103
        }
      ]
    },
    {
      "cell_type": "code",
      "source": [
        "predictions = xgb.predict(x_test)\n",
        "print(mean_squared_error(predictions, y_test))"
      ],
      "metadata": {
        "colab": {
          "base_uri": "https://localhost:8080/"
        },
        "id": "IIwH3-Lo5B-z",
        "outputId": "766951d5-ff33-47e1-f3b7-6f3d9e1481ea"
      },
      "execution_count": 104,
      "outputs": [
        {
          "output_type": "stream",
          "name": "stdout",
          "text": [
            "0.03342598850602517\n"
          ]
        }
      ]
    },
    {
      "cell_type": "markdown",
      "source": [
        "# Results"
      ],
      "metadata": {
        "id": "637rBt2IiFr9"
      }
    },
    {
      "cell_type": "markdown",
      "source": [
        "- RandomForest = 0.03393866761689965\n",
        "- DecisionTree = 0.0703356730180142\n",
        "- AdaBoost = 0.03662674736218215\n",
        "- LightGBM = 0.042103850423464165\n",
        "- XGBoost = 0.03342598850602517 <br>\n",
        "From here we can see that XGBoost shows a better performance than the others"
      ],
      "metadata": {
        "id": "IpQNJ2WkiHif"
      }
    }
  ]
}